{
  "nbformat": 4,
  "nbformat_minor": 0,
  "metadata": {
    "colab": {
      "name": "CapstoneDSNarasio_Regression",
      "provenance": [],
      "collapsed_sections": []
    },
    "kernelspec": {
      "display_name": "Python 3",
      "language": "python",
      "name": "python3"
    },
    "language_info": {
      "codemirror_mode": {
        "name": "ipython",
        "version": 3
      },
      "file_extension": ".py",
      "mimetype": "text/x-python",
      "name": "python",
      "nbconvert_exporter": "python",
      "pygments_lexer": "ipython3",
      "version": "3.8.8"
    }
  },
  "cells": [
    {
      "cell_type": "markdown",
      "metadata": {
        "id": "BGrC2L48I92K"
      },
      "source": [
        "## CAPSTONE PROJECT - REGRESSION"
      ]
    },
    {
      "cell_type": "markdown",
      "metadata": {
        "id": "l6fJm4nrzznD"
      },
      "source": [
        "### IMPORT PACKAGES"
      ]
    },
    {
      "cell_type": "code",
      "metadata": {
        "colab": {
          "base_uri": "https://localhost:8080/"
        },
        "id": "ymMxrLqzz6Vl",
        "outputId": "17e3d3f3-9c4f-49a0-ab48-9989e497dba1"
      },
      "source": [
        "# connect colab ke g drive\n",
        "from google.colab import drive\n",
        "drive.mount('/content/gdrive')"
      ],
      "execution_count": null,
      "outputs": [
        {
          "name": "stdout",
          "output_type": "stream",
          "text": [
            "Drive already mounted at /content/gdrive; to attempt to forcibly remount, call drive.mount(\"/content/gdrive\", force_remount=True).\n"
          ]
        }
      ]
    },
    {
      "cell_type": "code",
      "metadata": {
        "id": "_XDKhTBXrcoh"
      },
      "source": [
        "# Load library/package\n",
        "import os\n",
        "import warnings\n",
        "import pandas as pd\n",
        "import numpy as np\n",
        "import seaborn as sns\n",
        "import matplotlib.pyplot as plt\n",
        "from sklearn import metrics\n",
        "\n",
        "# Sklearn\n",
        "from sklearn.preprocessing import LabelEncoder\n",
        "from sklearn.linear_model import LinearRegression\n",
        "from sklearn.model_selection import train_test_split\n",
        "from sklearn.preprocessing import StandardScaler\n",
        "\n",
        "# Statmodels\n",
        "import statsmodels\n",
        "import statsmodels.api as sm"
      ],
      "execution_count": null,
      "outputs": []
    },
    {
      "cell_type": "markdown",
      "metadata": {
        "id": "W0M12Y1Xz_K9"
      },
      "source": [
        "### LOAD DATASET"
      ]
    },
    {
      "cell_type": "code",
      "metadata": {
        "id": "kCYapI1v0M3I"
      },
      "source": [
        "# Membuat path untuk mengidentifikasi letak directory\n",
        "# Catatan : pastikan path yang anda masukkan sesuai dengan directory data anda. \n",
        "# Kemungkinan besar path di contoh ini berbeda dengan penyimpanan data anda\n",
        "path = \"/content/gdrive/MyDrive/Capstone Project DS/2. Regression - Housing Rental Prices/\""
      ],
      "execution_count": null,
      "outputs": []
    },
    {
      "cell_type": "code",
      "metadata": {
        "colab": {
          "base_uri": "https://localhost:8080/"
        },
        "id": "ms-XwV5E5kYI",
        "outputId": "225f31c6-20ec-4033-a419-c22cd8c9b1ae"
      },
      "source": [
        "os.listdir(path)"
      ],
      "execution_count": null,
      "outputs": [
        {
          "data": {
            "text/plain": [
              "['Housing_Rental_Prices_train.csv',\n",
              " 'Housing_Rental_Prices_test.csv',\n",
              " 'Housing_Rental_Prices_train.xlsx']"
            ]
          },
          "execution_count": 560,
          "metadata": {},
          "output_type": "execute_result"
        }
      ]
    },
    {
      "cell_type": "code",
      "metadata": {
        "id": "UOYPr6Rg8LK1"
      },
      "source": [
        "data_train = pd.read_csv(path + 'Housing_Rental_Prices_train.csv', usecols=['bedroom', 'bathrooms','area','floor_number', 'deposit_amt','rent' ])"
      ],
      "execution_count": null,
      "outputs": []
    },
    {
      "cell_type": "code",
      "metadata": {
        "colab": {
          "base_uri": "https://localhost:8080/",
          "height": 202
        },
        "id": "v5Ce7ztkAbJn",
        "outputId": "94ab12e1-4c26-4a38-a978-6da09d536af4"
      },
      "source": [
        "data_train.head()"
      ],
      "execution_count": null,
      "outputs": [
        {
          "data": {
            "text/html": [
              "<div>\n",
              "<style scoped>\n",
              "    .dataframe tbody tr th:only-of-type {\n",
              "        vertical-align: middle;\n",
              "    }\n",
              "\n",
              "    .dataframe tbody tr th {\n",
              "        vertical-align: top;\n",
              "    }\n",
              "\n",
              "    .dataframe thead th {\n",
              "        text-align: right;\n",
              "    }\n",
              "</style>\n",
              "<table border=\"1\" class=\"dataframe\">\n",
              "  <thead>\n",
              "    <tr style=\"text-align: right;\">\n",
              "      <th></th>\n",
              "      <th>bedroom</th>\n",
              "      <th>bathrooms</th>\n",
              "      <th>area</th>\n",
              "      <th>floor_number</th>\n",
              "      <th>deposit_amt</th>\n",
              "      <th>rent</th>\n",
              "    </tr>\n",
              "  </thead>\n",
              "  <tbody>\n",
              "    <tr>\n",
              "      <th>0</th>\n",
              "      <td>2</td>\n",
              "      <td>2</td>\n",
              "      <td>1050.0</td>\n",
              "      <td>5</td>\n",
              "      <td>3</td>\n",
              "      <td>20000.0</td>\n",
              "    </tr>\n",
              "    <tr>\n",
              "      <th>1</th>\n",
              "      <td>2</td>\n",
              "      <td>2</td>\n",
              "      <td>760.0</td>\n",
              "      <td>5</td>\n",
              "      <td>40000</td>\n",
              "      <td>14000.0</td>\n",
              "    </tr>\n",
              "    <tr>\n",
              "      <th>2</th>\n",
              "      <td>3</td>\n",
              "      <td>3</td>\n",
              "      <td>0.0</td>\n",
              "      <td>1</td>\n",
              "      <td>60000</td>\n",
              "      <td>22999.0</td>\n",
              "    </tr>\n",
              "    <tr>\n",
              "      <th>3</th>\n",
              "      <td>1</td>\n",
              "      <td>1</td>\n",
              "      <td>628.0</td>\n",
              "      <td>3</td>\n",
              "      <td>40000</td>\n",
              "      <td>13000.0</td>\n",
              "    </tr>\n",
              "    <tr>\n",
              "      <th>4</th>\n",
              "      <td>2</td>\n",
              "      <td>2</td>\n",
              "      <td>668.0</td>\n",
              "      <td>6</td>\n",
              "      <td>20</td>\n",
              "      <td>7500.0</td>\n",
              "    </tr>\n",
              "  </tbody>\n",
              "</table>\n",
              "</div>"
            ],
            "text/plain": [
              "   bedroom  bathrooms    area  floor_number  deposit_amt     rent\n",
              "0        2          2  1050.0             5            3  20000.0\n",
              "1        2          2   760.0             5        40000  14000.0\n",
              "2        3          3     0.0             1        60000  22999.0\n",
              "3        1          1   628.0             3        40000  13000.0\n",
              "4        2          2   668.0             6           20   7500.0"
            ]
          },
          "execution_count": 562,
          "metadata": {},
          "output_type": "execute_result"
        }
      ]
    },
    {
      "cell_type": "markdown",
      "metadata": {
        "id": "3x-LOB34Ix2n"
      },
      "source": [
        "### PROBLEM STATEMENT"
      ]
    },
    {
      "cell_type": "markdown",
      "metadata": {
        "id": "ZZWQ3tGyFuBb"
      },
      "source": [
        "Pada studi kasus Capstone Linear Regression menggunakan data dengan variabel dependen (Y) yaitu rent dan variabel independen (X) yaitu bedroom, bathrooms, area, floor_number_gate_community, lightbill, maintenance_amt, dan deposit_amt.\n",
        "\n",
        "\n",
        "Variabel dependen (Y) = rent\n",
        "\n",
        "Variabel independen (X) = bedroom, bathrooms, area, floor_number_gate_community, lightbill, maintenance_amt, dan deposit_amt"
      ]
    },
    {
      "cell_type": "markdown",
      "metadata": {
        "id": "Q-A4_dmoGs3a"
      },
      "source": [
        "1. Menentukan pengaruh variabel X terhadap Variabel Y\n",
        "2. Analisa dan Prediksi harga sewa rumah"
      ]
    },
    {
      "cell_type": "markdown",
      "metadata": {
        "id": "3GbDILgN0fNT"
      },
      "source": [
        "### EDA"
      ]
    },
    {
      "cell_type": "markdown",
      "metadata": {
        "id": "xSMFDTwVIIBl"
      },
      "source": [
        "Summary Data Train"
      ]
    },
    {
      "cell_type": "code",
      "metadata": {
        "colab": {
          "base_uri": "https://localhost:8080/"
        },
        "id": "L-W8XPP45jC4",
        "outputId": "23738a18-8ac9-4df3-80c2-60aa1848a6b3"
      },
      "source": [
        "#informasi terkait data\n",
        "data_train.info()"
      ],
      "execution_count": null,
      "outputs": [
        {
          "name": "stdout",
          "output_type": "stream",
          "text": [
            "<class 'pandas.core.frame.DataFrame'>\n",
            "RangeIndex: 10884 entries, 0 to 10883\n",
            "Data columns (total 6 columns):\n",
            " #   Column        Non-Null Count  Dtype  \n",
            "---  ------        --------------  -----  \n",
            " 0   bedroom       10884 non-null  int64  \n",
            " 1   bathrooms     10884 non-null  int64  \n",
            " 2   area          10884 non-null  float64\n",
            " 3   floor_number  10884 non-null  int64  \n",
            " 4   deposit_amt   10884 non-null  int64  \n",
            " 5   rent          10884 non-null  float64\n",
            "dtypes: float64(2), int64(4)\n",
            "memory usage: 510.3 KB\n"
          ]
        }
      ]
    },
    {
      "cell_type": "code",
      "metadata": {
        "colab": {
          "base_uri": "https://localhost:8080/",
          "height": 294
        },
        "id": "RDlW-J-9IR79",
        "outputId": "0a85bc8d-662b-477e-e183-ef2ec8c8147f"
      },
      "source": [
        "#analisa deskriptif data\n",
        "data_train.describe()"
      ],
      "execution_count": null,
      "outputs": [
        {
          "data": {
            "text/html": [
              "<div>\n",
              "<style scoped>\n",
              "    .dataframe tbody tr th:only-of-type {\n",
              "        vertical-align: middle;\n",
              "    }\n",
              "\n",
              "    .dataframe tbody tr th {\n",
              "        vertical-align: top;\n",
              "    }\n",
              "\n",
              "    .dataframe thead th {\n",
              "        text-align: right;\n",
              "    }\n",
              "</style>\n",
              "<table border=\"1\" class=\"dataframe\">\n",
              "  <thead>\n",
              "    <tr style=\"text-align: right;\">\n",
              "      <th></th>\n",
              "      <th>bedroom</th>\n",
              "      <th>bathrooms</th>\n",
              "      <th>area</th>\n",
              "      <th>floor_number</th>\n",
              "      <th>deposit_amt</th>\n",
              "      <th>rent</th>\n",
              "    </tr>\n",
              "  </thead>\n",
              "  <tbody>\n",
              "    <tr>\n",
              "      <th>count</th>\n",
              "      <td>10884.000000</td>\n",
              "      <td>10884.000000</td>\n",
              "      <td>10884.000000</td>\n",
              "      <td>10884.000000</td>\n",
              "      <td>1.088400e+04</td>\n",
              "      <td>1.088400e+04</td>\n",
              "    </tr>\n",
              "    <tr>\n",
              "      <th>mean</th>\n",
              "      <td>1.797868</td>\n",
              "      <td>1.779677</td>\n",
              "      <td>528.558560</td>\n",
              "      <td>3.062018</td>\n",
              "      <td>3.670939e+04</td>\n",
              "      <td>2.855947e+04</td>\n",
              "    </tr>\n",
              "    <tr>\n",
              "      <th>std</th>\n",
              "      <td>0.807328</td>\n",
              "      <td>0.832231</td>\n",
              "      <td>930.460935</td>\n",
              "      <td>2.390430</td>\n",
              "      <td>5.589578e+04</td>\n",
              "      <td>1.183249e+06</td>\n",
              "    </tr>\n",
              "    <tr>\n",
              "      <th>min</th>\n",
              "      <td>1.000000</td>\n",
              "      <td>1.000000</td>\n",
              "      <td>0.000000</td>\n",
              "      <td>0.000000</td>\n",
              "      <td>0.000000e+00</td>\n",
              "      <td>1.600000e+03</td>\n",
              "    </tr>\n",
              "    <tr>\n",
              "      <th>25%</th>\n",
              "      <td>1.000000</td>\n",
              "      <td>1.000000</td>\n",
              "      <td>0.000000</td>\n",
              "      <td>1.000000</td>\n",
              "      <td>4.000000e+00</td>\n",
              "      <td>1.050000e+04</td>\n",
              "    </tr>\n",
              "    <tr>\n",
              "      <th>50%</th>\n",
              "      <td>2.000000</td>\n",
              "      <td>2.000000</td>\n",
              "      <td>510.000000</td>\n",
              "      <td>3.000000</td>\n",
              "      <td>3.000000e+04</td>\n",
              "      <td>1.500000e+04</td>\n",
              "    </tr>\n",
              "    <tr>\n",
              "      <th>75%</th>\n",
              "      <td>2.000000</td>\n",
              "      <td>2.000000</td>\n",
              "      <td>840.000000</td>\n",
              "      <td>5.000000</td>\n",
              "      <td>5.000000e+04</td>\n",
              "      <td>2.100000e+04</td>\n",
              "    </tr>\n",
              "    <tr>\n",
              "      <th>max</th>\n",
              "      <td>22.000000</td>\n",
              "      <td>22.000000</td>\n",
              "      <td>72775.000000</td>\n",
              "      <td>9.000000</td>\n",
              "      <td>1.500000e+06</td>\n",
              "      <td>1.234568e+08</td>\n",
              "    </tr>\n",
              "  </tbody>\n",
              "</table>\n",
              "</div>"
            ],
            "text/plain": [
              "            bedroom     bathrooms  ...   deposit_amt          rent\n",
              "count  10884.000000  10884.000000  ...  1.088400e+04  1.088400e+04\n",
              "mean       1.797868      1.779677  ...  3.670939e+04  2.855947e+04\n",
              "std        0.807328      0.832231  ...  5.589578e+04  1.183249e+06\n",
              "min        1.000000      1.000000  ...  0.000000e+00  1.600000e+03\n",
              "25%        1.000000      1.000000  ...  4.000000e+00  1.050000e+04\n",
              "50%        2.000000      2.000000  ...  3.000000e+04  1.500000e+04\n",
              "75%        2.000000      2.000000  ...  5.000000e+04  2.100000e+04\n",
              "max       22.000000     22.000000  ...  1.500000e+06  1.234568e+08\n",
              "\n",
              "[8 rows x 6 columns]"
            ]
          },
          "execution_count": 564,
          "metadata": {},
          "output_type": "execute_result"
        }
      ]
    },
    {
      "cell_type": "markdown",
      "metadata": {
        "id": "iiV2AjfmJLRa"
      },
      "source": [
        "Data Cleansing"
      ]
    },
    {
      "cell_type": "code",
      "metadata": {
        "colab": {
          "base_uri": "https://localhost:8080/"
        },
        "id": "7AjQzGQVJQsm",
        "outputId": "94d6f3dd-7053-4d55-9e6c-93efd8445b95"
      },
      "source": [
        "# Check missing value\n",
        "data_train.isna().sum()"
      ],
      "execution_count": null,
      "outputs": [
        {
          "data": {
            "text/plain": [
              "bedroom         0\n",
              "bathrooms       0\n",
              "area            0\n",
              "floor_number    0\n",
              "deposit_amt     0\n",
              "rent            0\n",
              "dtype: int64"
            ]
          },
          "execution_count": 565,
          "metadata": {},
          "output_type": "execute_result"
        }
      ]
    },
    {
      "cell_type": "markdown",
      "metadata": {
        "id": "PU6hqUDDJW5l"
      },
      "source": [
        "Berdasarkan output diatas, tidak terdapat data yang kosong"
      ]
    },
    {
      "cell_type": "code",
      "metadata": {
        "colab": {
          "base_uri": "https://localhost:8080/",
          "height": 414
        },
        "id": "lZJGGHXjJTgH",
        "outputId": "5b442d0a-63c3-4c5b-8b05-8f6512fbdced"
      },
      "source": [
        "#  Check duplicated data\n",
        "duplicate = data_train[data_train.duplicated(keep=False)]\n",
        "duplicate"
      ],
      "execution_count": null,
      "outputs": [
        {
          "data": {
            "text/html": [
              "<div>\n",
              "<style scoped>\n",
              "    .dataframe tbody tr th:only-of-type {\n",
              "        vertical-align: middle;\n",
              "    }\n",
              "\n",
              "    .dataframe tbody tr th {\n",
              "        vertical-align: top;\n",
              "    }\n",
              "\n",
              "    .dataframe thead th {\n",
              "        text-align: right;\n",
              "    }\n",
              "</style>\n",
              "<table border=\"1\" class=\"dataframe\">\n",
              "  <thead>\n",
              "    <tr style=\"text-align: right;\">\n",
              "      <th></th>\n",
              "      <th>bedroom</th>\n",
              "      <th>bathrooms</th>\n",
              "      <th>area</th>\n",
              "      <th>floor_number</th>\n",
              "      <th>deposit_amt</th>\n",
              "      <th>rent</th>\n",
              "    </tr>\n",
              "  </thead>\n",
              "  <tbody>\n",
              "    <tr>\n",
              "      <th>5</th>\n",
              "      <td>2</td>\n",
              "      <td>2</td>\n",
              "      <td>950.0</td>\n",
              "      <td>1</td>\n",
              "      <td>50000</td>\n",
              "      <td>17000.0</td>\n",
              "    </tr>\n",
              "    <tr>\n",
              "      <th>10</th>\n",
              "      <td>2</td>\n",
              "      <td>2</td>\n",
              "      <td>0.0</td>\n",
              "      <td>3</td>\n",
              "      <td>50000</td>\n",
              "      <td>17000.0</td>\n",
              "    </tr>\n",
              "    <tr>\n",
              "      <th>11</th>\n",
              "      <td>2</td>\n",
              "      <td>2</td>\n",
              "      <td>1000.0</td>\n",
              "      <td>2</td>\n",
              "      <td>50000</td>\n",
              "      <td>20000.0</td>\n",
              "    </tr>\n",
              "    <tr>\n",
              "      <th>13</th>\n",
              "      <td>2</td>\n",
              "      <td>2</td>\n",
              "      <td>0.0</td>\n",
              "      <td>2</td>\n",
              "      <td>50000</td>\n",
              "      <td>17000.0</td>\n",
              "    </tr>\n",
              "    <tr>\n",
              "      <th>14</th>\n",
              "      <td>1</td>\n",
              "      <td>1</td>\n",
              "      <td>0.0</td>\n",
              "      <td>0</td>\n",
              "      <td>20000</td>\n",
              "      <td>6000.0</td>\n",
              "    </tr>\n",
              "    <tr>\n",
              "      <th>...</th>\n",
              "      <td>...</td>\n",
              "      <td>...</td>\n",
              "      <td>...</td>\n",
              "      <td>...</td>\n",
              "      <td>...</td>\n",
              "      <td>...</td>\n",
              "    </tr>\n",
              "    <tr>\n",
              "      <th>10863</th>\n",
              "      <td>2</td>\n",
              "      <td>2</td>\n",
              "      <td>0.0</td>\n",
              "      <td>1</td>\n",
              "      <td>3</td>\n",
              "      <td>27000.0</td>\n",
              "    </tr>\n",
              "    <tr>\n",
              "      <th>10865</th>\n",
              "      <td>1</td>\n",
              "      <td>1</td>\n",
              "      <td>0.0</td>\n",
              "      <td>0</td>\n",
              "      <td>20000</td>\n",
              "      <td>6000.0</td>\n",
              "    </tr>\n",
              "    <tr>\n",
              "      <th>10867</th>\n",
              "      <td>1</td>\n",
              "      <td>1</td>\n",
              "      <td>0.0</td>\n",
              "      <td>2</td>\n",
              "      <td>25000</td>\n",
              "      <td>7000.0</td>\n",
              "    </tr>\n",
              "    <tr>\n",
              "      <th>10874</th>\n",
              "      <td>1</td>\n",
              "      <td>1</td>\n",
              "      <td>0.0</td>\n",
              "      <td>2</td>\n",
              "      <td>25000</td>\n",
              "      <td>12000.0</td>\n",
              "    </tr>\n",
              "    <tr>\n",
              "      <th>10877</th>\n",
              "      <td>2</td>\n",
              "      <td>2</td>\n",
              "      <td>805.0</td>\n",
              "      <td>7</td>\n",
              "      <td>3</td>\n",
              "      <td>20000.0</td>\n",
              "    </tr>\n",
              "  </tbody>\n",
              "</table>\n",
              "<p>2603 rows × 6 columns</p>\n",
              "</div>"
            ],
            "text/plain": [
              "       bedroom  bathrooms    area  floor_number  deposit_amt     rent\n",
              "5            2          2   950.0             1        50000  17000.0\n",
              "10           2          2     0.0             3        50000  17000.0\n",
              "11           2          2  1000.0             2        50000  20000.0\n",
              "13           2          2     0.0             2        50000  17000.0\n",
              "14           1          1     0.0             0        20000   6000.0\n",
              "...        ...        ...     ...           ...          ...      ...\n",
              "10863        2          2     0.0             1            3  27000.0\n",
              "10865        1          1     0.0             0        20000   6000.0\n",
              "10867        1          1     0.0             2        25000   7000.0\n",
              "10874        1          1     0.0             2        25000  12000.0\n",
              "10877        2          2   805.0             7            3  20000.0\n",
              "\n",
              "[2603 rows x 6 columns]"
            ]
          },
          "execution_count": 566,
          "metadata": {},
          "output_type": "execute_result"
        }
      ]
    },
    {
      "cell_type": "code",
      "metadata": {
        "id": "AUi_kJCVJKsL"
      },
      "source": [
        "# Drop Duplicate Data\n",
        "data_train.drop_duplicates(inplace=True)"
      ],
      "execution_count": null,
      "outputs": []
    },
    {
      "cell_type": "code",
      "metadata": {
        "colab": {
          "base_uri": "https://localhost:8080/"
        },
        "id": "ZA3W7YMUJrPD",
        "outputId": "9cc4f41c-ee92-4c07-bb24-363282d32f6a"
      },
      "source": [
        "# Cek ukuran data apakah duplicate sudah terhapus\n",
        "data_train.shape"
      ],
      "execution_count": null,
      "outputs": [
        {
          "data": {
            "text/plain": [
              "(9234, 6)"
            ]
          },
          "execution_count": 568,
          "metadata": {},
          "output_type": "execute_result"
        }
      ]
    },
    {
      "cell_type": "code",
      "metadata": {
        "colab": {
          "base_uri": "https://localhost:8080/",
          "height": 355
        },
        "id": "5y2KhlDCA52r",
        "outputId": "d404f72e-1b5a-43db-e201-d42e7857df8a"
      },
      "source": [
        "data_train.head(10)"
      ],
      "execution_count": null,
      "outputs": [
        {
          "data": {
            "text/html": [
              "<div>\n",
              "<style scoped>\n",
              "    .dataframe tbody tr th:only-of-type {\n",
              "        vertical-align: middle;\n",
              "    }\n",
              "\n",
              "    .dataframe tbody tr th {\n",
              "        vertical-align: top;\n",
              "    }\n",
              "\n",
              "    .dataframe thead th {\n",
              "        text-align: right;\n",
              "    }\n",
              "</style>\n",
              "<table border=\"1\" class=\"dataframe\">\n",
              "  <thead>\n",
              "    <tr style=\"text-align: right;\">\n",
              "      <th></th>\n",
              "      <th>bedroom</th>\n",
              "      <th>bathrooms</th>\n",
              "      <th>area</th>\n",
              "      <th>floor_number</th>\n",
              "      <th>deposit_amt</th>\n",
              "      <th>rent</th>\n",
              "    </tr>\n",
              "  </thead>\n",
              "  <tbody>\n",
              "    <tr>\n",
              "      <th>0</th>\n",
              "      <td>2</td>\n",
              "      <td>2</td>\n",
              "      <td>1050.0</td>\n",
              "      <td>5</td>\n",
              "      <td>3</td>\n",
              "      <td>20000.0</td>\n",
              "    </tr>\n",
              "    <tr>\n",
              "      <th>1</th>\n",
              "      <td>2</td>\n",
              "      <td>2</td>\n",
              "      <td>760.0</td>\n",
              "      <td>5</td>\n",
              "      <td>40000</td>\n",
              "      <td>14000.0</td>\n",
              "    </tr>\n",
              "    <tr>\n",
              "      <th>2</th>\n",
              "      <td>3</td>\n",
              "      <td>3</td>\n",
              "      <td>0.0</td>\n",
              "      <td>1</td>\n",
              "      <td>60000</td>\n",
              "      <td>22999.0</td>\n",
              "    </tr>\n",
              "    <tr>\n",
              "      <th>3</th>\n",
              "      <td>1</td>\n",
              "      <td>1</td>\n",
              "      <td>628.0</td>\n",
              "      <td>3</td>\n",
              "      <td>40000</td>\n",
              "      <td>13000.0</td>\n",
              "    </tr>\n",
              "    <tr>\n",
              "      <th>4</th>\n",
              "      <td>2</td>\n",
              "      <td>2</td>\n",
              "      <td>668.0</td>\n",
              "      <td>6</td>\n",
              "      <td>20</td>\n",
              "      <td>7500.0</td>\n",
              "    </tr>\n",
              "    <tr>\n",
              "      <th>5</th>\n",
              "      <td>2</td>\n",
              "      <td>2</td>\n",
              "      <td>950.0</td>\n",
              "      <td>1</td>\n",
              "      <td>50000</td>\n",
              "      <td>17000.0</td>\n",
              "    </tr>\n",
              "    <tr>\n",
              "      <th>6</th>\n",
              "      <td>3</td>\n",
              "      <td>3</td>\n",
              "      <td>1530.0</td>\n",
              "      <td>2</td>\n",
              "      <td>3</td>\n",
              "      <td>28000.0</td>\n",
              "    </tr>\n",
              "    <tr>\n",
              "      <th>7</th>\n",
              "      <td>2</td>\n",
              "      <td>2</td>\n",
              "      <td>900.0</td>\n",
              "      <td>1</td>\n",
              "      <td>36000</td>\n",
              "      <td>18000.0</td>\n",
              "    </tr>\n",
              "    <tr>\n",
              "      <th>8</th>\n",
              "      <td>3</td>\n",
              "      <td>3</td>\n",
              "      <td>0.0</td>\n",
              "      <td>7</td>\n",
              "      <td>200000</td>\n",
              "      <td>35000.0</td>\n",
              "    </tr>\n",
              "    <tr>\n",
              "      <th>9</th>\n",
              "      <td>3</td>\n",
              "      <td>3</td>\n",
              "      <td>1400.0</td>\n",
              "      <td>2</td>\n",
              "      <td>60000</td>\n",
              "      <td>25999.0</td>\n",
              "    </tr>\n",
              "  </tbody>\n",
              "</table>\n",
              "</div>"
            ],
            "text/plain": [
              "   bedroom  bathrooms    area  floor_number  deposit_amt     rent\n",
              "0        2          2  1050.0             5            3  20000.0\n",
              "1        2          2   760.0             5        40000  14000.0\n",
              "2        3          3     0.0             1        60000  22999.0\n",
              "3        1          1   628.0             3        40000  13000.0\n",
              "4        2          2   668.0             6           20   7500.0\n",
              "5        2          2   950.0             1        50000  17000.0\n",
              "6        3          3  1530.0             2            3  28000.0\n",
              "7        2          2   900.0             1        36000  18000.0\n",
              "8        3          3     0.0             7       200000  35000.0\n",
              "9        3          3  1400.0             2        60000  25999.0"
            ]
          },
          "execution_count": 569,
          "metadata": {},
          "output_type": "execute_result"
        }
      ]
    },
    {
      "cell_type": "markdown",
      "metadata": {
        "id": "0rIRzjM5J3Zi"
      },
      "source": [
        "Setelah dilakukan pengecekan data yang duplikat dilakukan drop sehingga data yang tersisa berjumlah 9647 dari 10083"
      ]
    },
    {
      "cell_type": "markdown",
      "metadata": {
        "id": "XV12nC80BYNC"
      },
      "source": [
        "Melakukan pengecekan zero values pada colum Area"
      ]
    },
    {
      "cell_type": "code",
      "metadata": {
        "colab": {
          "base_uri": "https://localhost:8080/"
        },
        "id": "P2Divx_9AchL",
        "outputId": "15644a91-284a-4e43-e917-d0298abf11d1"
      },
      "source": [
        "(data_train['area'] == 0).sum()"
      ],
      "execution_count": null,
      "outputs": [
        {
          "data": {
            "text/plain": [
              "2754"
            ]
          },
          "execution_count": 570,
          "metadata": {},
          "output_type": "execute_result"
        }
      ]
    },
    {
      "cell_type": "markdown",
      "metadata": {
        "id": "Fq5Qk1wTBbr2"
      },
      "source": [
        "Ditemukan sebanyak 2754 rows memiliki zero values, lalu dilakukan drop rows"
      ]
    },
    {
      "cell_type": "code",
      "metadata": {
        "id": "rh9e6KsvBDbE"
      },
      "source": [
        "data_train= data_train[data_train['area'] != 0]"
      ],
      "execution_count": null,
      "outputs": []
    },
    {
      "cell_type": "code",
      "metadata": {
        "colab": {
          "base_uri": "https://localhost:8080/"
        },
        "id": "UDsTCMhGBWBJ",
        "outputId": "99bf0aea-2e68-441d-9bf8-73dad8f3afb5"
      },
      "source": [
        "(data_train['area'] == 0).sum()"
      ],
      "execution_count": null,
      "outputs": [
        {
          "data": {
            "text/plain": [
              "0"
            ]
          },
          "execution_count": 572,
          "metadata": {},
          "output_type": "execute_result"
        }
      ]
    },
    {
      "cell_type": "code",
      "metadata": {
        "colab": {
          "base_uri": "https://localhost:8080/"
        },
        "id": "sS_3ohvIBjCu",
        "outputId": "6a22b116-396b-4004-c481-f71114e1e1b8"
      },
      "source": [
        "data_train.info()"
      ],
      "execution_count": null,
      "outputs": [
        {
          "name": "stdout",
          "output_type": "stream",
          "text": [
            "<class 'pandas.core.frame.DataFrame'>\n",
            "Int64Index: 6480 entries, 0 to 10883\n",
            "Data columns (total 6 columns):\n",
            " #   Column        Non-Null Count  Dtype  \n",
            "---  ------        --------------  -----  \n",
            " 0   bedroom       6480 non-null   int64  \n",
            " 1   bathrooms     6480 non-null   int64  \n",
            " 2   area          6480 non-null   float64\n",
            " 3   floor_number  6480 non-null   int64  \n",
            " 4   deposit_amt   6480 non-null   int64  \n",
            " 5   rent          6480 non-null   float64\n",
            "dtypes: float64(2), int64(4)\n",
            "memory usage: 354.4 KB\n"
          ]
        }
      ]
    },
    {
      "cell_type": "markdown",
      "metadata": {
        "id": "h30IoMr-BlrW"
      },
      "source": [
        "Setelah dilakukan drop rows yang memiliki zero values pada data column Area, rows yang tersisa sebanyak 6480 data"
      ]
    },
    {
      "cell_type": "code",
      "metadata": {
        "colab": {
          "base_uri": "https://localhost:8080/",
          "height": 202
        },
        "id": "YPv4JWJDBOkq",
        "outputId": "96a82565-f02b-4adc-f703-ddf3cd7c7ef6"
      },
      "source": [
        "data_train.head()"
      ],
      "execution_count": null,
      "outputs": [
        {
          "data": {
            "text/html": [
              "<div>\n",
              "<style scoped>\n",
              "    .dataframe tbody tr th:only-of-type {\n",
              "        vertical-align: middle;\n",
              "    }\n",
              "\n",
              "    .dataframe tbody tr th {\n",
              "        vertical-align: top;\n",
              "    }\n",
              "\n",
              "    .dataframe thead th {\n",
              "        text-align: right;\n",
              "    }\n",
              "</style>\n",
              "<table border=\"1\" class=\"dataframe\">\n",
              "  <thead>\n",
              "    <tr style=\"text-align: right;\">\n",
              "      <th></th>\n",
              "      <th>bedroom</th>\n",
              "      <th>bathrooms</th>\n",
              "      <th>area</th>\n",
              "      <th>floor_number</th>\n",
              "      <th>deposit_amt</th>\n",
              "      <th>rent</th>\n",
              "    </tr>\n",
              "  </thead>\n",
              "  <tbody>\n",
              "    <tr>\n",
              "      <th>0</th>\n",
              "      <td>2</td>\n",
              "      <td>2</td>\n",
              "      <td>1050.0</td>\n",
              "      <td>5</td>\n",
              "      <td>3</td>\n",
              "      <td>20000.0</td>\n",
              "    </tr>\n",
              "    <tr>\n",
              "      <th>1</th>\n",
              "      <td>2</td>\n",
              "      <td>2</td>\n",
              "      <td>760.0</td>\n",
              "      <td>5</td>\n",
              "      <td>40000</td>\n",
              "      <td>14000.0</td>\n",
              "    </tr>\n",
              "    <tr>\n",
              "      <th>3</th>\n",
              "      <td>1</td>\n",
              "      <td>1</td>\n",
              "      <td>628.0</td>\n",
              "      <td>3</td>\n",
              "      <td>40000</td>\n",
              "      <td>13000.0</td>\n",
              "    </tr>\n",
              "    <tr>\n",
              "      <th>4</th>\n",
              "      <td>2</td>\n",
              "      <td>2</td>\n",
              "      <td>668.0</td>\n",
              "      <td>6</td>\n",
              "      <td>20</td>\n",
              "      <td>7500.0</td>\n",
              "    </tr>\n",
              "    <tr>\n",
              "      <th>5</th>\n",
              "      <td>2</td>\n",
              "      <td>2</td>\n",
              "      <td>950.0</td>\n",
              "      <td>1</td>\n",
              "      <td>50000</td>\n",
              "      <td>17000.0</td>\n",
              "    </tr>\n",
              "  </tbody>\n",
              "</table>\n",
              "</div>"
            ],
            "text/plain": [
              "   bedroom  bathrooms    area  floor_number  deposit_amt     rent\n",
              "0        2          2  1050.0             5            3  20000.0\n",
              "1        2          2   760.0             5        40000  14000.0\n",
              "3        1          1   628.0             3        40000  13000.0\n",
              "4        2          2   668.0             6           20   7500.0\n",
              "5        2          2   950.0             1        50000  17000.0"
            ]
          },
          "execution_count": 574,
          "metadata": {},
          "output_type": "execute_result"
        }
      ]
    },
    {
      "cell_type": "markdown",
      "metadata": {
        "id": "guzMzK_LK_Rh"
      },
      "source": [
        "Cek tipe data"
      ]
    },
    {
      "cell_type": "code",
      "metadata": {
        "colab": {
          "base_uri": "https://localhost:8080/"
        },
        "id": "woyxoRDU67tj",
        "outputId": "ada303d7-2d04-4195-d05a-6223e4742d21"
      },
      "source": [
        "# Cek kembali data information\n",
        "data_train.info()"
      ],
      "execution_count": null,
      "outputs": [
        {
          "name": "stdout",
          "output_type": "stream",
          "text": [
            "<class 'pandas.core.frame.DataFrame'>\n",
            "Int64Index: 6480 entries, 0 to 10883\n",
            "Data columns (total 6 columns):\n",
            " #   Column        Non-Null Count  Dtype  \n",
            "---  ------        --------------  -----  \n",
            " 0   bedroom       6480 non-null   int64  \n",
            " 1   bathrooms     6480 non-null   int64  \n",
            " 2   area          6480 non-null   float64\n",
            " 3   floor_number  6480 non-null   int64  \n",
            " 4   deposit_amt   6480 non-null   int64  \n",
            " 5   rent          6480 non-null   float64\n",
            "dtypes: float64(2), int64(4)\n",
            "memory usage: 354.4 KB\n"
          ]
        }
      ]
    },
    {
      "cell_type": "code",
      "metadata": {
        "colab": {
          "base_uri": "https://localhost:8080/"
        },
        "id": "HCIL_riGCJqT",
        "outputId": "09b67db3-acff-4e21-8b4d-1648dcdac058"
      },
      "source": [
        "data_train.info()"
      ],
      "execution_count": null,
      "outputs": [
        {
          "name": "stdout",
          "output_type": "stream",
          "text": [
            "<class 'pandas.core.frame.DataFrame'>\n",
            "Int64Index: 6480 entries, 0 to 10883\n",
            "Data columns (total 6 columns):\n",
            " #   Column        Non-Null Count  Dtype  \n",
            "---  ------        --------------  -----  \n",
            " 0   bedroom       6480 non-null   int64  \n",
            " 1   bathrooms     6480 non-null   int64  \n",
            " 2   area          6480 non-null   float64\n",
            " 3   floor_number  6480 non-null   int64  \n",
            " 4   deposit_amt   6480 non-null   int64  \n",
            " 5   rent          6480 non-null   float64\n",
            "dtypes: float64(2), int64(4)\n",
            "memory usage: 354.4 KB\n"
          ]
        }
      ]
    },
    {
      "cell_type": "markdown",
      "metadata": {
        "id": "uIqpHq3Je0TR"
      },
      "source": [
        "Tipe data  variabel sudah sesuai."
      ]
    },
    {
      "cell_type": "code",
      "metadata": {
        "colab": {
          "base_uri": "https://localhost:8080/",
          "height": 202
        },
        "id": "7oZ0i0986jRV",
        "outputId": "be2085f0-4572-4ecf-e7c2-859f7056bdd3"
      },
      "source": [
        "data_train.head()"
      ],
      "execution_count": null,
      "outputs": [
        {
          "data": {
            "text/html": [
              "<div>\n",
              "<style scoped>\n",
              "    .dataframe tbody tr th:only-of-type {\n",
              "        vertical-align: middle;\n",
              "    }\n",
              "\n",
              "    .dataframe tbody tr th {\n",
              "        vertical-align: top;\n",
              "    }\n",
              "\n",
              "    .dataframe thead th {\n",
              "        text-align: right;\n",
              "    }\n",
              "</style>\n",
              "<table border=\"1\" class=\"dataframe\">\n",
              "  <thead>\n",
              "    <tr style=\"text-align: right;\">\n",
              "      <th></th>\n",
              "      <th>bedroom</th>\n",
              "      <th>bathrooms</th>\n",
              "      <th>area</th>\n",
              "      <th>floor_number</th>\n",
              "      <th>deposit_amt</th>\n",
              "      <th>rent</th>\n",
              "    </tr>\n",
              "  </thead>\n",
              "  <tbody>\n",
              "    <tr>\n",
              "      <th>0</th>\n",
              "      <td>2</td>\n",
              "      <td>2</td>\n",
              "      <td>1050.0</td>\n",
              "      <td>5</td>\n",
              "      <td>3</td>\n",
              "      <td>20000.0</td>\n",
              "    </tr>\n",
              "    <tr>\n",
              "      <th>1</th>\n",
              "      <td>2</td>\n",
              "      <td>2</td>\n",
              "      <td>760.0</td>\n",
              "      <td>5</td>\n",
              "      <td>40000</td>\n",
              "      <td>14000.0</td>\n",
              "    </tr>\n",
              "    <tr>\n",
              "      <th>3</th>\n",
              "      <td>1</td>\n",
              "      <td>1</td>\n",
              "      <td>628.0</td>\n",
              "      <td>3</td>\n",
              "      <td>40000</td>\n",
              "      <td>13000.0</td>\n",
              "    </tr>\n",
              "    <tr>\n",
              "      <th>4</th>\n",
              "      <td>2</td>\n",
              "      <td>2</td>\n",
              "      <td>668.0</td>\n",
              "      <td>6</td>\n",
              "      <td>20</td>\n",
              "      <td>7500.0</td>\n",
              "    </tr>\n",
              "    <tr>\n",
              "      <th>5</th>\n",
              "      <td>2</td>\n",
              "      <td>2</td>\n",
              "      <td>950.0</td>\n",
              "      <td>1</td>\n",
              "      <td>50000</td>\n",
              "      <td>17000.0</td>\n",
              "    </tr>\n",
              "  </tbody>\n",
              "</table>\n",
              "</div>"
            ],
            "text/plain": [
              "   bedroom  bathrooms    area  floor_number  deposit_amt     rent\n",
              "0        2          2  1050.0             5            3  20000.0\n",
              "1        2          2   760.0             5        40000  14000.0\n",
              "3        1          1   628.0             3        40000  13000.0\n",
              "4        2          2   668.0             6           20   7500.0\n",
              "5        2          2   950.0             1        50000  17000.0"
            ]
          },
          "execution_count": 577,
          "metadata": {},
          "output_type": "execute_result"
        }
      ]
    },
    {
      "cell_type": "markdown",
      "metadata": {
        "id": "6iwOFh_zQ1fL"
      },
      "source": [
        "# Mencari Insight Data"
      ]
    },
    {
      "cell_type": "code",
      "metadata": {
        "colab": {
          "base_uri": "https://localhost:8080/"
        },
        "id": "6_dU7GksQ4Jk",
        "outputId": "08d49748-009b-4d02-b900-a445c9062f95"
      },
      "source": [
        "#Another insight (Jumlah kamar yang disediakan berbagai tipe rumah)\n",
        "data_train_bedroomPerEachHouse = data_train['bedroom'].value_counts()\n",
        "data_train_bedroomPerEachHouse"
      ],
      "execution_count": null,
      "outputs": [
        {
          "data": {
            "text/plain": [
              "2     3036\n",
              "1     2395\n",
              "3      926\n",
              "4      113\n",
              "5        9\n",
              "20       1\n",
              "Name: bedroom, dtype: int64"
            ]
          },
          "execution_count": 578,
          "metadata": {},
          "output_type": "execute_result"
        }
      ]
    },
    {
      "cell_type": "code",
      "metadata": {
        "colab": {
          "base_uri": "https://localhost:8080/"
        },
        "id": "9P3qjIhrW1J4",
        "outputId": "3de94570-edb1-4301-8a69-a1564645001c"
      },
      "source": [
        "# Memfilter top 4 penawaran jumlah kamar tidur tiap rumah\n",
        "popular_sumBedroomPerEachHouse = data_train_bedroomPerEachHouse.iloc[0:4]\n",
        "popular_sumBedroomPerEachHouse"
      ],
      "execution_count": null,
      "outputs": [
        {
          "data": {
            "text/plain": [
              "2    3036\n",
              "1    2395\n",
              "3     926\n",
              "4     113\n",
              "Name: bedroom, dtype: int64"
            ]
          },
          "execution_count": 579,
          "metadata": {},
          "output_type": "execute_result"
        }
      ]
    },
    {
      "cell_type": "code",
      "metadata": {
        "colab": {
          "base_uri": "https://localhost:8080/",
          "height": 282
        },
        "id": "lZGu2lxLU4Ls",
        "outputId": "4f76e3d1-092f-40ba-e0c3-612c9a5fc163"
      },
      "source": [
        "piechart_Bedroom=popular_sumBedroomPerEachHouse.plot(kind='pie',autopct='%.2f')\n",
        "piechart_Bedroom.set_title(\"Distribution of the Number of Bedrooms per Each House\")"
      ],
      "execution_count": null,
      "outputs": [
        {
          "data": {
            "text/plain": [
              "Text(0.5, 1.0, 'Distribution of the Number of Bedrooms per Each House')"
            ]
          },
          "execution_count": 580,
          "metadata": {},
          "output_type": "execute_result"
        },
        {
          "data": {
            "image/png": "[encoded data removed]",
            "text/plain": [
              "<Figure size 432x288 with 1 Axes>"
            ]
          },
          "metadata": {},
          "output_type": "display_data"
        }
      ]
    },
    {
      "cell_type": "code",
      "metadata": {
        "colab": {
          "base_uri": "https://localhost:8080/"
        },
        "id": "bySPNXKmTCLU",
        "outputId": "4d2ad3d7-0187-470c-ade7-ed62c557cc5e"
      },
      "source": [
        "#Another insight (Jumlah kamar mandi yang disediakan berbagai tipe rumah)\n",
        "data_train_BathroomsEachHouse = data_train['bathrooms'].value_counts()\n",
        "data_train_BathroomsEachHouse"
      ],
      "execution_count": null,
      "outputs": [
        {
          "data": {
            "text/plain": [
              "2     3142\n",
              "1     2411\n",
              "3      770\n",
              "4      113\n",
              "5       33\n",
              "6        8\n",
              "7        2\n",
              "20       1\n",
              "Name: bathrooms, dtype: int64"
            ]
          },
          "execution_count": 581,
          "metadata": {},
          "output_type": "execute_result"
        }
      ]
    },
    {
      "cell_type": "code",
      "metadata": {
        "colab": {
          "base_uri": "https://localhost:8080/"
        },
        "id": "e2NDXkGHY6CG",
        "outputId": "1ac0e975-55ea-4e99-ae1f-09644c6f32c8"
      },
      "source": [
        "# Memfilter top 4 penawaran jumlah kamar mandi tiap rumah\n",
        "popular_sumBathroomsPerEachHouse = data_train_BathroomsEachHouse.iloc[0:4]\n",
        "popular_sumBathroomsPerEachHouse"
      ],
      "execution_count": null,
      "outputs": [
        {
          "data": {
            "text/plain": [
              "2    3142\n",
              "1    2411\n",
              "3     770\n",
              "4     113\n",
              "Name: bathrooms, dtype: int64"
            ]
          },
          "execution_count": 582,
          "metadata": {},
          "output_type": "execute_result"
        }
      ]
    },
    {
      "cell_type": "code",
      "metadata": {
        "colab": {
          "base_uri": "https://localhost:8080/",
          "height": 282
        },
        "id": "UQW6X8Y8ZE6n",
        "outputId": "e379f366-93ac-4b18-89c8-6fe5666a5ead"
      },
      "source": [
        "piechart_Bathrooms=popular_sumBathroomsPerEachHouse.plot(kind='pie',autopct='%.2f')\n",
        "piechart_Bathrooms.set_title(\"Distribution of the Number of Bathrooms per Each House\")"
      ],
      "execution_count": null,
      "outputs": [
        {
          "data": {
            "text/plain": [
              "Text(0.5, 1.0, 'Distribution of the Number of Bathrooms per Each House')"
            ]
          },
          "execution_count": 583,
          "metadata": {},
          "output_type": "execute_result"
        },
        {
          "data": {
            "image/png": "[encoded data removed]",
            "text/plain": [
              "<Figure size 432x288 with 1 Axes>"
            ]
          },
          "metadata": {},
          "output_type": "display_data"
        }
      ]
    },
    {
      "cell_type": "markdown",
      "metadata": {
        "id": "_DhGpk4_ZYTj"
      },
      "source": [
        "Berdasarkan 2 data diatas, dapat diketahui bahwa kebanyakan rumah menawarkan jumlah kamar mandi atau kamar tidur sebanyak 2 unit"
      ]
    },
    {
      "cell_type": "code",
      "metadata": {
        "colab": {
          "base_uri": "https://localhost:8080/"
        },
        "id": "HqPtk2sJcEY1",
        "outputId": "42c364d5-5b5a-42be-e479-3480ed7f0e7d"
      },
      "source": [
        "comparison_column = np.where(data_train[\"bedroom\"] == data_train[\"bathrooms\"], True, False)\n",
        "comparison_column"
      ],
      "execution_count": null,
      "outputs": [
        {
          "data": {
            "text/plain": [
              "array([ True,  True,  True, ..., False,  True,  True])"
            ]
          },
          "execution_count": 584,
          "metadata": {},
          "output_type": "execute_result"
        }
      ]
    },
    {
      "cell_type": "code",
      "metadata": {
        "colab": {
          "base_uri": "https://localhost:8080/"
        },
        "id": "hDB28qxodv0_",
        "outputId": "866e3aa8-295a-44f5-e3fa-11ffe155d8f9"
      },
      "source": [
        "true_count = sum(comparison_column)\n",
        "true_count"
      ],
      "execution_count": null,
      "outputs": [
        {
          "data": {
            "text/plain": [
              "5709"
            ]
          },
          "execution_count": 585,
          "metadata": {},
          "output_type": "execute_result"
        }
      ]
    },
    {
      "cell_type": "markdown",
      "metadata": {
        "id": "_dKSB34Nd6IK"
      },
      "source": [
        "Selain itu, berdasarkan data perbandingan values pada kolom bedroom dan bathroom memiliki jumlah nilai yang sama sebanyak 5709 dari 6480\n",
        "Persentase jumlah kamar tidur dan kamar mandi tiap rumah adalah sama sebanyak 88.1%"
      ]
    },
    {
      "cell_type": "code",
      "metadata": {
        "colab": {
          "base_uri": "https://localhost:8080/"
        },
        "id": "4AVdLVe1mW3K",
        "outputId": "3d52643f-4951-49a0-d382-8922a47fd65a"
      },
      "source": [
        "data_train['rent'].describe()"
      ],
      "execution_count": null,
      "outputs": [
        {
          "data": {
            "text/plain": [
              "count     6480.000000\n",
              "mean     17473.421746\n",
              "std       9989.289134\n",
              "min       2000.000000\n",
              "25%      11000.000000\n",
              "50%      15000.000000\n",
              "75%      21000.000000\n",
              "max      95000.000000\n",
              "Name: rent, dtype: float64"
            ]
          },
          "execution_count": 586,
          "metadata": {},
          "output_type": "execute_result"
        }
      ]
    },
    {
      "cell_type": "code",
      "metadata": {
        "colab": {
          "base_uri": "https://localhost:8080/"
        },
        "id": "qEJgR_NYm97Y",
        "outputId": "0f4c7b0b-f6bb-4fe8-c338-ed835044f1ce"
      },
      "source": [
        "#Another insight (Letak Rumah dalam gedung)\n",
        "data_train_floornumberBuilding = data_train['floor_number'].value_counts()\n",
        "data_train_floornumberBuilding"
      ],
      "execution_count": null,
      "outputs": [
        {
          "data": {
            "text/plain": [
              "1    1480\n",
              "2    1022\n",
              "3     937\n",
              "4     702\n",
              "5     630\n",
              "0     462\n",
              "6     441\n",
              "7     351\n",
              "9     231\n",
              "8     224\n",
              "Name: floor_number, dtype: int64"
            ]
          },
          "execution_count": 587,
          "metadata": {},
          "output_type": "execute_result"
        }
      ]
    },
    {
      "cell_type": "code",
      "metadata": {
        "colab": {
          "base_uri": "https://localhost:8080/",
          "height": 310
        },
        "id": "DF_AhGVOvyOG",
        "outputId": "f1f030f8-fc3e-4882-bc52-2b060775237e"
      },
      "source": [
        "#Insight (Mencari letak rumah yang ingin disewa dalam sebuah gedung)\n",
        "data_train_floornumberBuilding.plot(kind='bar')\n",
        "plt.title('The distribution of the floor of the house for rent')\n",
        "plt.xlabel('floor number')\n",
        "plt.ylabel('frequency')"
      ],
      "execution_count": null,
      "outputs": [
        {
          "data": {
            "text/plain": [
              "Text(0, 0.5, 'frequency')"
            ]
          },
          "execution_count": 588,
          "metadata": {},
          "output_type": "execute_result"
        },
        {
          "data": {
            "image/png": "[encoded data removed]",
            "text/plain": [
              "<Figure size 432x288 with 1 Axes>"
            ]
          },
          "metadata": {},
          "output_type": "display_data"
        }
      ]
    },
    {
      "cell_type": "markdown",
      "metadata": {
        "id": "r-XscMTowP48"
      },
      "source": [
        "Berdasarkan gambar Histogram diatas, kebanyak rumah yang ditawari berada pada lantai ke-1."
      ]
    },
    {
      "cell_type": "markdown",
      "metadata": {
        "id": "6u4IAil10RlZ"
      },
      "source": [
        "### DATA PRE-PROCESSING"
      ]
    },
    {
      "cell_type": "markdown",
      "metadata": {
        "id": "CsghtXQLfa-A"
      },
      "source": [
        "Uji Normalitas"
      ]
    },
    {
      "cell_type": "code",
      "metadata": {
        "colab": {
          "base_uri": "https://localhost:8080/",
          "height": 605
        },
        "id": "s-rWhH1jnng1",
        "outputId": "39156700-8353-43c7-af0a-14a0fd57d006"
      },
      "source": [
        "# Cek normalitas data dengan histogram\n",
        "warnings.filterwarnings('ignore')\n",
        "fig, axes = plt.subplots(2, 2, figsize=(15, 10))\n",
        "\n",
        "sns.distplot(data_train[\"bedroom\"], ax=axes[0, 0])\n",
        "sns.distplot(data_train[\"bathrooms\"], ax=axes[0, 1])\n",
        "sns.distplot(data_train[\"area\"], ax=axes[1, 0])\n",
        "sns.distplot(data_train[\"floor_number\"], ax=axes[1, 1])\n",
        "plt.show()"
      ],
      "execution_count": null,
      "outputs": [
        {
          "data": {
            "image/png": "[encoded data removed]",
            "text/plain": [
              "<Figure size 1080x720 with 4 Axes>"
            ]
          },
          "metadata": {},
          "output_type": "display_data"
        }
      ]
    },
    {
      "cell_type": "code",
      "metadata": {
        "colab": {
          "base_uri": "https://localhost:8080/",
          "height": 321
        },
        "id": "JHSGdlPefcMC",
        "outputId": "689fa4b9-6768-4c87-a512-eac424f0cbaa"
      },
      "source": [
        "# Cek normalitas data dengan histogram\n",
        "warnings.filterwarnings('ignore')\n",
        "plt.figure(figsize=(15,10))\n",
        "plt.subplot(222)\n",
        "sns.distplot(data_train[\"deposit_amt\"])\n",
        "plt.show()"
      ],
      "execution_count": null,
      "outputs": [
        {
          "data": {
            "image/png": "[encoded data removed]",
            "text/plain": [
              "<Figure size 1080x720 with 1 Axes>"
            ]
          },
          "metadata": {},
          "output_type": "display_data"
        }
      ]
    },
    {
      "cell_type": "code",
      "metadata": {
        "colab": {
          "base_uri": "https://localhost:8080/",
          "height": 320
        },
        "id": "kRE8jqcC7G_a",
        "outputId": "29174382-24f8-4612-c182-b71fd3ce37df"
      },
      "source": [
        "# Cek normalitas data dengan histogram\n",
        "warnings.filterwarnings('ignore')\n",
        "plt.figure(figsize=(15,10))\n",
        "plt.subplot(222)\n",
        "sns.distplot(data_train[\"rent\"])\n",
        "plt.show()"
      ],
      "execution_count": null,
      "outputs": [
        {
          "data": {
            "image/png": "[encoded data removed]",
            "text/plain": [
              "<Figure size 1080x720 with 1 Axes>"
            ]
          },
          "metadata": {},
          "output_type": "display_data"
        }
      ]
    },
    {
      "cell_type": "code",
      "metadata": {
        "colab": {
          "base_uri": "https://localhost:8080/",
          "height": 605
        },
        "id": "vbUMvYdLp0p7",
        "outputId": "cd6e2054-5550-4e21-a1c3-717e56fa3656"
      },
      "source": [
        "# Cek normalitas data dengan boxplot\n",
        "warnings.filterwarnings('ignore')\n",
        "fig, axes = plt.subplots(2, 2, figsize=(15, 10))\n",
        "\n",
        "sns.boxplot(data_train[\"bedroom\"], ax=axes[0, 0])\n",
        "sns.boxplot(data_train[\"bathrooms\"], ax=axes[0, 1])\n",
        "sns.boxplot(data_train[\"area\"], ax=axes[1, 0])\n",
        "sns.boxplot(data_train[\"floor_number\"], ax=axes[1, 1])\n",
        "plt.show()"
      ],
      "execution_count": null,
      "outputs": [
        {
          "data": {
            "image/png": "[encoded data removed]",
            "text/plain": [
              "<Figure size 1080x720 with 4 Axes>"
            ]
          },
          "metadata": {},
          "output_type": "display_data"
        }
      ]
    },
    {
      "cell_type": "code",
      "metadata": {
        "colab": {
          "base_uri": "https://localhost:8080/",
          "height": 602
        },
        "id": "z73IULBlnskO",
        "outputId": "16093efd-1682-4efa-ebee-85fed70b37bd"
      },
      "source": [
        "# Cek normalitas data dengan boxplot\n",
        "warnings.filterwarnings('ignore')\n",
        "plt.figure(figsize=(15,10))\n",
        "plt.subplot(222)\n",
        "sns.boxplot(data_train[\"deposit_amt\"])\n",
        "plt.show()\n",
        "\n",
        "# Cek normalitas data dengan boxplot\n",
        "warnings.filterwarnings('ignore')\n",
        "plt.figure(figsize=(15,10))\n",
        "plt.subplot(222)\n",
        "sns.boxplot(data_train[\"rent\"])\n",
        "plt.show()"
      ],
      "execution_count": null,
      "outputs": [
        {
          "data": {
            "image/png": "[encoded data removed]",
            "text/plain": [
              "<Figure size 1080x720 with 1 Axes>"
            ]
          },
          "metadata": {},
          "output_type": "display_data"
        },
        {
          "data": {
            "image/png": "[encoded data removed]",
            "text/plain": [
              "<Figure size 1080x720 with 1 Axes>"
            ]
          },
          "metadata": {},
          "output_type": "display_data"
        }
      ]
    },
    {
      "cell_type": "code",
      "metadata": {
        "colab": {
          "base_uri": "https://localhost:8080/",
          "height": 324
        },
        "id": "4S_9k8XniEkT",
        "outputId": "a69d99b0-852b-4a69-9a1a-18e56835f8a0"
      },
      "source": [
        "# Cek normalitas data dengan Q-Q plot\n",
        "\n",
        "fig = plt.figure(figsize=(15,10))\n",
        "\n",
        "ax = fig.add_subplot(2, 2, 2)\n",
        "sm.graphics.qqplot(data_train[\"rent\"].dropna(), line='s', ax=ax)\n",
        "top = ax.get_ylim()[1] * 0.75\n",
        "plt.title('Q-Qplot Plot rent')\n",
        "\n",
        "plt.show()"
      ],
      "execution_count": null,
      "outputs": [
        {
          "data": {
            "image/png": "[encoded data removed]",
            "text/plain": [
              "<Figure size 1080x720 with 1 Axes>"
            ]
          },
          "metadata": {},
          "output_type": "display_data"
        }
      ]
    },
    {
      "cell_type": "markdown",
      "metadata": {
        "id": "ZcoqXxw5qTzf"
      },
      "source": [
        "> Insight Grafik:\n",
        "*   Histogram : histogram kedua variabel berbentuk lonceng walaupun tidak simetris dan sedikit positive skewness (kemiringan condong ke kiri), dapat mengindikasi terdapat ourlier pada variabel Aroma.\n",
        "*   Boxplot : terdapat outliers/pencilan pada variabel Aroma tetapi tidak jauh dalam range.\n",
        "*   Q-Q Plot : titik-titik biru mengikuti garis merah sehingga mengindikasi data mengikuti distribusi normal.\n",
        "\n",
        "Oleh karena pengecekan normalitas data secara visual tidak dapat ditarik kesimpulan sehingga perlu dilakukan pengujian hipotesis berikut:\n",
        "<br>\n",
        "<br>\n",
        "Ho: Data berdistribusi Normal <br>\n",
        "H1: Data tidak berdistribusi Normal\n",
        "<br>\n",
        "<br>\n",
        "Bila p-value kurang dari 0.05 maka Ho Ditolak, berarti Data tidak berdistribusi Normal\n",
        "Bila p-value lebih dari 0.05 maka Ho Diterima, berarti Data berdistribusi Normal.\n",
        "<br>\n",
        "<br>\n",
        "Salah satu Uji Distribusi Normalitas Data yaitu Uji Shapiro-Wilk."
      ]
    },
    {
      "cell_type": "code",
      "metadata": {
        "colab": {
          "base_uri": "https://localhost:8080/"
        },
        "id": "EmwoqdzvqG0Y",
        "outputId": "e70a5841-93c1-4f4f-81db-d451b9138411"
      },
      "source": [
        "# Uji Shapiro-Wilk\n",
        "from scipy.stats import shapiro\n",
        "stat_y, pval_y = shapiro(data_train[\"rent\"])\n",
        "\n",
        "print(format(pval_y,\".3f\"))"
      ],
      "execution_count": null,
      "outputs": [
        {
          "name": "stdout",
          "output_type": "stream",
          "text": [
            "0.000\n"
          ]
        }
      ]
    },
    {
      "cell_type": "markdown",
      "metadata": {
        "id": "fiu4nd9c0SS7"
      },
      "source": [
        "Berdasarkan hasil pvalue_y diatas, diketahui bahwa Variabel Dependen tidak berdistribusi normal"
      ]
    },
    {
      "cell_type": "markdown",
      "metadata": {
        "id": "WuOoHzWkES3D"
      },
      "source": [
        "Uji Linearitas"
      ]
    },
    {
      "cell_type": "code",
      "metadata": {
        "colab": {
          "base_uri": "https://localhost:8080/"
        },
        "id": "CH2W8K07ER7p",
        "outputId": "36bd7d44-1792-4127-9f56-5eab8d9da3b3"
      },
      "source": [
        "# Keterkaitan x dengan y\n",
        "fig, axes = plt.subplots(1, 3, figsize=(21, 6))\n",
        "fig.suptitle('Variable Dependent vs Independent')\n",
        "\n",
        "sns.regplot(x=data_train[\"bedroom\"], y=data_train[\"rent\"], lowess=True, line_kws={'color': 'red'}, ax=axes[0])\n",
        "sns.regplot(x=data_train[\"bathrooms\"], y=data_train[\"rent\"], lowess=True, line_kws={'color': 'red'}, ax=axes[1])\n",
        "sns.regplot(x=data_train[\"area\"], y=data_train[\"rent\"], lowess=True, line_kws={'color': 'red'}, ax=axes[2])\n",
        "plt.show()"
      ],
      "execution_count": null,
      "outputs": [
        {
          "data": {
            "image/png": "[encoded data removed]",
            "text/plain": [
              "<Figure size 1512x432 with 3 Axes>"
            ]
          },
          "metadata": {},
          "output_type": "display_data"
        }
      ]
    },
    {
      "cell_type": "code",
      "metadata": {
        "colab": {
          "base_uri": "https://localhost:8080/"
        },
        "id": "LD57vkL_FIOG",
        "outputId": "c102a788-7799-49e0-c9fe-3e1165151749"
      },
      "source": [
        "# Keterkaitan x dengan y\n",
        "fig, axes = plt.subplots(1, 2, figsize=(21, 6))\n",
        "fig.suptitle('Variable Dependent vs Independent')\n",
        "\n",
        "sns.regplot(x=data_train[\"floor_number\"], y=data_train[\"rent\"], lowess=True, line_kws={'color': 'red'}, ax=axes[0])\n",
        "sns.regplot(x=data_train[\"deposit_amt\"], y=data_train[\"rent\"], lowess=True, line_kws={'color': 'red'}, ax=axes[1])\n",
        "plt.show()"
      ],
      "execution_count": null,
      "outputs": [
        {
          "data": {
            "image/png": "[encoded data removed]",
            "text/plain": [
              "<Figure size 1512x432 with 2 Axes>"
            ]
          },
          "metadata": {},
          "output_type": "display_data"
        }
      ]
    },
    {
      "cell_type": "markdown",
      "metadata": {
        "id": "ru5KWo4DH2yL"
      },
      "source": [
        "Uji Multikolineritas"
      ]
    },
    {
      "cell_type": "code",
      "metadata": {
        "colab": {
          "base_uri": "https://localhost:8080/"
        },
        "id": "2F--wAxWH4jF",
        "outputId": "41571cba-aad1-41ce-f952-346e2821762d"
      },
      "source": [
        "plt.figure(figsize=(10,8))\n",
        "sns.heatmap(data_train.corr(), vmax=1, vmin=-1, center=0, cmap=\"Spectral\", annot=True)"
      ],
      "execution_count": null,
      "outputs": [
        {
          "data": {
            "text/plain": [
              "<matplotlib.axes._subplots.AxesSubplot at 0x7fcc560c8c50>"
            ]
          },
          "execution_count": 598,
          "metadata": {},
          "output_type": "execute_result"
        },
        {
          "data": {
            "image/png": "[encoded data removed]",
            "text/plain": [
              "<Figure size 720x576 with 2 Axes>"
            ]
          },
          "metadata": {},
          "output_type": "display_data"
        }
      ]
    },
    {
      "cell_type": "code",
      "metadata": {
        "colab": {
          "base_uri": "https://localhost:8080/"
        },
        "id": "E9ggEvr7IDtE",
        "outputId": "0b281896-f118-4bc1-9cc3-7cfdf799ba27"
      },
      "source": [
        "# Cek Urutan korelasi terendah ke tertinggi\n",
        "korelasi = data_train.corr()[\"rent\"].sort_values()\n",
        "korelasi"
      ],
      "execution_count": null,
      "outputs": [
        {
          "data": {
            "text/plain": [
              "floor_number    0.136715\n",
              "area            0.278805\n",
              "deposit_amt     0.399759\n",
              "bedroom         0.673670\n",
              "bathrooms       0.676880\n",
              "rent            1.000000\n",
              "Name: rent, dtype: float64"
            ]
          },
          "execution_count": 599,
          "metadata": {},
          "output_type": "execute_result"
        }
      ]
    },
    {
      "cell_type": "markdown",
      "metadata": {
        "id": "fmIMPTuVwlAX"
      },
      "source": [
        "Berdasarkan uji multikolinearitas diatas, dapat diketahui bahwa model regresi mengalami masalah multikolinearitas."
      ]
    },
    {
      "cell_type": "code",
      "metadata": {
        "id": "sdE48MiUwzKQ"
      },
      "source": [
        "data_trainNew=data_train.drop(['bathrooms'], axis = 1)"
      ],
      "execution_count": null,
      "outputs": []
    },
    {
      "cell_type": "markdown",
      "metadata": {
        "id": "dHKmZvtcx-4x"
      },
      "source": [
        "Lakukan drop salah satu column yang memiliki nilai korelasi yang sama sehingga asumsi terpenuhi"
      ]
    },
    {
      "cell_type": "code",
      "metadata": {
        "colab": {
          "base_uri": "https://localhost:8080/"
        },
        "id": "F3AaFe5exS09",
        "outputId": "b29ffcea-e9a2-40d6-d843-99a143a78992"
      },
      "source": [
        "data_trainNew.head()"
      ],
      "execution_count": null,
      "outputs": [
        {
          "data": {
            "text/html": [
              "<div>\n",
              "<style scoped>\n",
              "    .dataframe tbody tr th:only-of-type {\n",
              "        vertical-align: middle;\n",
              "    }\n",
              "\n",
              "    .dataframe tbody tr th {\n",
              "        vertical-align: top;\n",
              "    }\n",
              "\n",
              "    .dataframe thead th {\n",
              "        text-align: right;\n",
              "    }\n",
              "</style>\n",
              "<table border=\"1\" class=\"dataframe\">\n",
              "  <thead>\n",
              "    <tr style=\"text-align: right;\">\n",
              "      <th></th>\n",
              "      <th>bedroom</th>\n",
              "      <th>area</th>\n",
              "      <th>floor_number</th>\n",
              "      <th>deposit_amt</th>\n",
              "      <th>rent</th>\n",
              "    </tr>\n",
              "  </thead>\n",
              "  <tbody>\n",
              "    <tr>\n",
              "      <th>0</th>\n",
              "      <td>2</td>\n",
              "      <td>1050.0</td>\n",
              "      <td>5</td>\n",
              "      <td>3</td>\n",
              "      <td>20000.0</td>\n",
              "    </tr>\n",
              "    <tr>\n",
              "      <th>1</th>\n",
              "      <td>2</td>\n",
              "      <td>760.0</td>\n",
              "      <td>5</td>\n",
              "      <td>40000</td>\n",
              "      <td>14000.0</td>\n",
              "    </tr>\n",
              "    <tr>\n",
              "      <th>3</th>\n",
              "      <td>1</td>\n",
              "      <td>628.0</td>\n",
              "      <td>3</td>\n",
              "      <td>40000</td>\n",
              "      <td>13000.0</td>\n",
              "    </tr>\n",
              "    <tr>\n",
              "      <th>4</th>\n",
              "      <td>2</td>\n",
              "      <td>668.0</td>\n",
              "      <td>6</td>\n",
              "      <td>20</td>\n",
              "      <td>7500.0</td>\n",
              "    </tr>\n",
              "    <tr>\n",
              "      <th>5</th>\n",
              "      <td>2</td>\n",
              "      <td>950.0</td>\n",
              "      <td>1</td>\n",
              "      <td>50000</td>\n",
              "      <td>17000.0</td>\n",
              "    </tr>\n",
              "  </tbody>\n",
              "</table>\n",
              "</div>"
            ],
            "text/plain": [
              "   bedroom    area  floor_number  deposit_amt     rent\n",
              "0        2  1050.0             5            3  20000.0\n",
              "1        2   760.0             5        40000  14000.0\n",
              "3        1   628.0             3        40000  13000.0\n",
              "4        2   668.0             6           20   7500.0\n",
              "5        2   950.0             1        50000  17000.0"
            ]
          },
          "execution_count": 601,
          "metadata": {},
          "output_type": "execute_result"
        }
      ]
    },
    {
      "cell_type": "markdown",
      "metadata": {
        "id": "G3c-UT3CIc_q"
      },
      "source": [
        "### FEATURE ENGINEERING"
      ]
    },
    {
      "cell_type": "markdown",
      "metadata": {
        "id": "qBFCGOD4LReX"
      },
      "source": [
        "### Scaling\n",
        "Scaling digunakan untuk merubah skala pada data. Penggunaan scaling dapat membantu mengurangi gap antar kolom dalam data, proses ini tidak merubah distribusi dalam data, hanya melakukan pengubahan skala data."
      ]
    },
    {
      "cell_type": "code",
      "metadata": {
        "colab": {
          "base_uri": "https://localhost:8080/"
        },
        "id": "ulLAKOYi_mo-",
        "outputId": "a14e7caf-7e78-4116-f53c-5e81ab6f01ac"
      },
      "source": [
        "# Scale data\n",
        "scaler = StandardScaler()\n",
        "scaled_data_train = scaler.fit_transform(data_trainNew)\n",
        "scaled_data_train"
      ],
      "execution_count": null,
      "outputs": [
        {
          "data": {
            "text/plain": [
              "array([[ 0.23659891,  0.1864719 ,  0.71601872, -0.66981001,  0.25294825],\n",
              "       [ 0.23659891, -0.08158515,  0.71601872,  0.02613277, -0.34774144],\n",
              "       [-1.04316817, -0.20359733, -0.11750348,  0.02613277, -0.44785639],\n",
              "       ...,\n",
              "       [ 1.516366  ,  1.42508032,  2.38306311,  2.46211519,  3.75697146],\n",
              "       [ 0.23659891, -0.26367908, -0.53426457, -0.66981001, -0.34774144],\n",
              "       [-1.04316817, -0.32191216, -0.53426457, -0.66986221,  0.5532931 ]])"
            ]
          },
          "execution_count": 602,
          "metadata": {},
          "output_type": "execute_result"
        }
      ]
    },
    {
      "cell_type": "code",
      "metadata": {
        "colab": {
          "base_uri": "https://localhost:8080/"
        },
        "id": "ggYWJrUpLiYS",
        "outputId": "41de8f06-1ae6-4859-9ee1-a654459fbd88"
      },
      "source": [
        "# Membuat dataframe dari hasil scalling\n",
        "scaled_data_train = pd.DataFrame(scaled_data_train, columns=data_trainNew.columns)\n",
        "scaled_data_train"
      ],
      "execution_count": null,
      "outputs": [
        {
          "data": {
            "text/html": [
              "<div>\n",
              "<style scoped>\n",
              "    .dataframe tbody tr th:only-of-type {\n",
              "        vertical-align: middle;\n",
              "    }\n",
              "\n",
              "    .dataframe tbody tr th {\n",
              "        vertical-align: top;\n",
              "    }\n",
              "\n",
              "    .dataframe thead th {\n",
              "        text-align: right;\n",
              "    }\n",
              "</style>\n",
              "<table border=\"1\" class=\"dataframe\">\n",
              "  <thead>\n",
              "    <tr style=\"text-align: right;\">\n",
              "      <th></th>\n",
              "      <th>bedroom</th>\n",
              "      <th>area</th>\n",
              "      <th>floor_number</th>\n",
              "      <th>deposit_amt</th>\n",
              "      <th>rent</th>\n",
              "    </tr>\n",
              "  </thead>\n",
              "  <tbody>\n",
              "    <tr>\n",
              "      <th>0</th>\n",
              "      <td>0.236599</td>\n",
              "      <td>0.186472</td>\n",
              "      <td>0.716019</td>\n",
              "      <td>-0.669810</td>\n",
              "      <td>0.252948</td>\n",
              "    </tr>\n",
              "    <tr>\n",
              "      <th>1</th>\n",
              "      <td>0.236599</td>\n",
              "      <td>-0.081585</td>\n",
              "      <td>0.716019</td>\n",
              "      <td>0.026133</td>\n",
              "      <td>-0.347741</td>\n",
              "    </tr>\n",
              "    <tr>\n",
              "      <th>2</th>\n",
              "      <td>-1.043168</td>\n",
              "      <td>-0.203597</td>\n",
              "      <td>-0.117503</td>\n",
              "      <td>0.026133</td>\n",
              "      <td>-0.447856</td>\n",
              "    </tr>\n",
              "    <tr>\n",
              "      <th>3</th>\n",
              "      <td>0.236599</td>\n",
              "      <td>-0.166624</td>\n",
              "      <td>1.132780</td>\n",
              "      <td>-0.669514</td>\n",
              "      <td>-0.998489</td>\n",
              "    </tr>\n",
              "    <tr>\n",
              "      <th>4</th>\n",
              "      <td>0.236599</td>\n",
              "      <td>0.094038</td>\n",
              "      <td>-0.951026</td>\n",
              "      <td>0.200132</td>\n",
              "      <td>-0.047397</td>\n",
              "    </tr>\n",
              "    <tr>\n",
              "      <th>...</th>\n",
              "      <td>...</td>\n",
              "      <td>...</td>\n",
              "      <td>...</td>\n",
              "      <td>...</td>\n",
              "      <td>...</td>\n",
              "    </tr>\n",
              "    <tr>\n",
              "      <th>6475</th>\n",
              "      <td>0.236599</td>\n",
              "      <td>0.047822</td>\n",
              "      <td>-1.367787</td>\n",
              "      <td>0.113132</td>\n",
              "      <td>-0.247626</td>\n",
              "    </tr>\n",
              "    <tr>\n",
              "      <th>6476</th>\n",
              "      <td>0.236599</td>\n",
              "      <td>-0.090828</td>\n",
              "      <td>-1.367787</td>\n",
              "      <td>-0.147866</td>\n",
              "      <td>-0.247626</td>\n",
              "    </tr>\n",
              "    <tr>\n",
              "      <th>6477</th>\n",
              "      <td>1.516366</td>\n",
              "      <td>1.425080</td>\n",
              "      <td>2.383063</td>\n",
              "      <td>2.462115</td>\n",
              "      <td>3.756971</td>\n",
              "    </tr>\n",
              "    <tr>\n",
              "      <th>6478</th>\n",
              "      <td>0.236599</td>\n",
              "      <td>-0.263679</td>\n",
              "      <td>-0.534265</td>\n",
              "      <td>-0.669810</td>\n",
              "      <td>-0.347741</td>\n",
              "    </tr>\n",
              "    <tr>\n",
              "      <th>6479</th>\n",
              "      <td>-1.043168</td>\n",
              "      <td>-0.321912</td>\n",
              "      <td>-0.534265</td>\n",
              "      <td>-0.669862</td>\n",
              "      <td>0.553293</td>\n",
              "    </tr>\n",
              "  </tbody>\n",
              "</table>\n",
              "<p>6480 rows × 5 columns</p>\n",
              "</div>"
            ],
            "text/plain": [
              "       bedroom      area  floor_number  deposit_amt      rent\n",
              "0     0.236599  0.186472      0.716019    -0.669810  0.252948\n",
              "1     0.236599 -0.081585      0.716019     0.026133 -0.347741\n",
              "2    -1.043168 -0.203597     -0.117503     0.026133 -0.447856\n",
              "3     0.236599 -0.166624      1.132780    -0.669514 -0.998489\n",
              "4     0.236599  0.094038     -0.951026     0.200132 -0.047397\n",
              "...        ...       ...           ...          ...       ...\n",
              "6475  0.236599  0.047822     -1.367787     0.113132 -0.247626\n",
              "6476  0.236599 -0.090828     -1.367787    -0.147866 -0.247626\n",
              "6477  1.516366  1.425080      2.383063     2.462115  3.756971\n",
              "6478  0.236599 -0.263679     -0.534265    -0.669810 -0.347741\n",
              "6479 -1.043168 -0.321912     -0.534265    -0.669862  0.553293\n",
              "\n",
              "[6480 rows x 5 columns]"
            ]
          },
          "execution_count": 603,
          "metadata": {},
          "output_type": "execute_result"
        }
      ]
    },
    {
      "cell_type": "code",
      "metadata": {
        "colab": {
          "background_save": true
        },
        "id": "5HxgGL0CLmVV",
        "outputId": "455005bb-0696-4ac2-e697-f2273bd0de39"
      },
      "source": [
        "# Plot variabel sebelum dan sesudah scaling\n",
        "fig, axes = plt.subplots(5, 2, figsize=(15, 20))\n",
        "\n",
        "sns.distplot(data_trainNew[\"bedroom\"], ax=axes[0, 0])\n",
        "sns.distplot(scaled_data_train[\"bedroom\"], ax=axes[0, 1])\n",
        "sns.distplot(data_trainNew[\"area\"], ax=axes[1, 0])\n",
        "sns.distplot(scaled_data_train[\"area\"], ax=axes[1, 1])\n",
        "sns.distplot(data_trainNew[\"floor_number\"], ax=axes[2, 0])\n",
        "sns.distplot(scaled_data_train[\"floor_number\"], ax=axes[2, 1])\n",
        "sns.distplot(data_trainNew[\"deposit_amt\"], ax=axes[3, 0])\n",
        "sns.distplot(scaled_data_train[\"deposit_amt\"], ax=axes[3, 1])\n",
        "sns.distplot(data_trainNew[\"rent\"], ax=axes[4, 0])\n",
        "sns.distplot(scaled_data_train[\"rent\"], ax=axes[4, 1])\n",
        "plt.show()"
      ],
      "execution_count": null,
      "outputs": [
        {
          "data": {
            "image/png": "[encoded data removed]",
            "text/plain": [
              "<Figure size 1080x1440 with 10 Axes>"
            ]
          },
          "metadata": {},
          "output_type": "display_data"
        }
      ]
    },
    {
      "cell_type": "markdown",
      "metadata": {
        "id": "UwMJ3Dgr_oob"
      },
      "source": [
        "## MODELING"
      ]
    },
    {
      "cell_type": "code",
      "metadata": {
        "colab": {
          "background_save": true
        },
        "id": "MdRg-oRaCEDw"
      },
      "source": [
        "X_train = scaled_data_train.drop(\"rent\", axis=1).values\n",
        "y_train = scaled_data_train[\"rent\"].values.reshape(-1,1)"
      ],
      "execution_count": null,
      "outputs": []
    },
    {
      "cell_type": "code",
      "metadata": {
        "colab": {
          "background_save": true
        },
        "id": "vuYu7qXE8mVf",
        "outputId": "7dbe409c-7634-437e-b692-3e5969014197"
      },
      "source": [
        "print(\"Ukuran X train \", len(X_train))\n",
        "print(\"Ukuran y train \", len(y_train))"
      ],
      "execution_count": null,
      "outputs": [
        {
          "name": "stdout",
          "output_type": "stream",
          "text": [
            "Ukuran X train  6480\n",
            "Ukuran y train  6480\n"
          ]
        }
      ]
    },
    {
      "cell_type": "markdown",
      "metadata": {
        "id": "ddgsjZXf3hTN"
      },
      "source": [
        "### Membangun model dengan package Statsmodels"
      ]
    },
    {
      "cell_type": "code",
      "metadata": {
        "colab": {
          "background_save": true
        },
        "id": "fUwIalvL3jGv"
      },
      "source": [
        "# Masukkan intercepts secara manual\n",
        "Input = sm.add_constant(X_train)"
      ],
      "execution_count": null,
      "outputs": []
    },
    {
      "cell_type": "code",
      "metadata": {
        "colab": {
          "background_save": true
        },
        "id": "w0zU-1RW3lA9"
      },
      "source": [
        "# Modelling dengan statsmodels\n",
        "SimpleModel = sm.OLS(y_train, Input, missing='drop')\n",
        "results = SimpleModel.fit()"
      ],
      "execution_count": null,
      "outputs": []
    },
    {
      "cell_type": "code",
      "metadata": {
        "colab": {
          "background_save": true
        },
        "id": "QMFV1EsB3eAi",
        "outputId": "294456aa-0b54-4a20-d386-e25bc21c92c5"
      },
      "source": [
        "# Print results\n",
        "print(results.summary())"
      ],
      "execution_count": null,
      "outputs": [
        {
          "name": "stdout",
          "output_type": "stream",
          "text": [
            "                            OLS Regression Results                            \n",
            "==============================================================================\n",
            "Dep. Variable:                      y   R-squared:                       0.490\n",
            "Model:                            OLS   Adj. R-squared:                  0.489\n",
            "Method:                 Least Squares   F-statistic:                     1553.\n",
            "Date:                Tue, 02 Nov 2021   Prob (F-statistic):               0.00\n",
            "Time:                        09:50:48   Log-Likelihood:                -7015.4\n",
            "No. Observations:                6480   AIC:                         1.404e+04\n",
            "Df Residuals:                    6475   BIC:                         1.407e+04\n",
            "Df Model:                           4                                         \n",
            "Covariance Type:            nonrobust                                         \n",
            "==============================================================================\n",
            "                 coef    std err          t      P>|t|      [0.025      0.975]\n",
            "------------------------------------------------------------------------------\n",
            "const       1.522e-16      0.009   1.71e-14      1.000      -0.017       0.017\n",
            "x1             0.5932      0.010     58.813      0.000       0.573       0.613\n",
            "x2             0.0308      0.010      3.234      0.001       0.012       0.050\n",
            "x3             0.0265      0.009      2.939      0.003       0.009       0.044\n",
            "x4             0.1947      0.009     20.635      0.000       0.176       0.213\n",
            "==============================================================================\n",
            "Omnibus:                     2244.710   Durbin-Watson:                   2.030\n",
            "Prob(Omnibus):                  0.000   Jarque-Bera (JB):           275831.698\n",
            "Skew:                           0.619   Prob(JB):                         0.00\n",
            "Kurtosis:                      34.938   Cond. No.                         1.69\n",
            "==============================================================================\n",
            "\n",
            "Warnings:\n",
            "[1] Standard Errors assume that the covariance matrix of the errors is correctly specified.\n"
          ]
        }
      ]
    },
    {
      "cell_type": "markdown",
      "metadata": {
        "id": "MPzwi1Xb3tKu"
      },
      "source": [
        "Dari output diatas, kita dapat melihat nilai - nilai :\n",
        "\n",
        "Nilai p>|t| = 0,000; 0,001; 0,003 ; 0,000. Nilai p>|t| kurang dari 0,05 dimiliki oleh variabel x1,x2,x3, dan x4 artinya, bahwa keempat variabel independen memberikan pengaruh secara signifikan terhadap variabel dependen, Selain itu, Nilai p>|t| intercept sebesar 1.00, yang berarti intercept berpengaruh signifikan terhadap model.\n",
        "\n",
        "Nilai coef-X1 0.5932 artinya besarnya pengaruh variabel independen bedroom 0.5932 poin, pada kasus kali ini, jika nilai  bedroom bertambah satu, maka nilai sale price bertambah 0.5932\n",
        "\n",
        "Nilai coef-X2 0.0308 artinya besarnya pengaruh variabel independen bathrooms 0.0308 poin, pada kasus kali ini, jika nilai  bathrooms bertambah satu, maka nilai sale price bertambah 0.0308\n",
        "\n",
        "Nilai coef-X3 0.0265 artinya besarnya pengaruh variabel independen area 0.0265 poin, pada kasus kali ini, jika nilai  area bertambah satu, maka nilai sale price bertambah 0.0265\n",
        "\n",
        "Nilai coef-X4 0.1947 artinya besarnya pengaruh variabel independen floor_number 0.1947 poin, pada kasus kali ini, jika nilai  floor_number bertambah satu, maka nilai sale price bertambah 0.1947\n",
        "\n",
        "\n",
        "Nilai R-squared 0.490, artinya variabel dependen rent dapat dijelaskan oleh kelima variabel independen sebesar 50.8% , makin besar nilai R-squared akan semakin bagus.\n",
        "\n",
        "Nilai AIC 1.404e+04 dan BIC 1.407e+04, nilai ini dapat digunakan ketika dalam analisis regresi menghasilkan beberapa model, dan dijadikan acuan untuk memilih model mana yang terbaik dengan melihat nilai AIC dan BIC yang terkecil."
      ]
    },
    {
      "cell_type": "code",
      "metadata": {
        "colab": {
          "background_save": true
        },
        "id": "amuTRw4o3p02",
        "outputId": "5396d234-7607-434a-cfe4-b3ca4e0140c8"
      },
      "source": [
        "print('coefficient of determination:', results.rsquared)\n",
        "print('adjusted coefficient of determination:', results.rsquared_adj)\n",
        "print('regression coefficients:', results.params)"
      ],
      "execution_count": null,
      "outputs": [
        {
          "name": "stdout",
          "output_type": "stream",
          "text": [
            "coefficient of determination: 0.4896309395247026\n",
            "adjusted coefficient of determination: 0.4893156536186175\n",
            "regression coefficients: [1.52221985e-16 5.93163486e-01 3.08455305e-02 2.64531323e-02\n",
            " 1.94662133e-01]\n"
          ]
        }
      ]
    },
    {
      "cell_type": "markdown",
      "metadata": {
        "id": "D7uXsS3fAQcK"
      },
      "source": [
        "### Load Data Test"
      ]
    },
    {
      "cell_type": "code",
      "metadata": {
        "colab": {
          "background_save": true
        },
        "id": "XdnoZgH4AaB_"
      },
      "source": [
        "data_test = pd.read_csv(path + 'Housing_Rental_Prices_train.csv', usecols=['bedroom','area','floor_number', 'deposit_amt','rent' ])"
      ],
      "execution_count": null,
      "outputs": []
    },
    {
      "cell_type": "code",
      "metadata": {
        "colab": {
          "background_save": true
        },
        "id": "84U8ZOw5BD_a",
        "outputId": "4b8175ee-2329-4020-9899-f5f07be6bbfc"
      },
      "source": [
        "data_test.info()"
      ],
      "execution_count": null,
      "outputs": [
        {
          "name": "stdout",
          "output_type": "stream",
          "text": [
            "<class 'pandas.core.frame.DataFrame'>\n",
            "RangeIndex: 10884 entries, 0 to 10883\n",
            "Data columns (total 5 columns):\n",
            " #   Column        Non-Null Count  Dtype  \n",
            "---  ------        --------------  -----  \n",
            " 0   bedroom       10884 non-null  int64  \n",
            " 1   area          10884 non-null  float64\n",
            " 2   floor_number  10884 non-null  int64  \n",
            " 3   deposit_amt   10884 non-null  int64  \n",
            " 4   rent          10884 non-null  float64\n",
            "dtypes: float64(2), int64(3)\n",
            "memory usage: 425.3 KB\n"
          ]
        }
      ]
    },
    {
      "cell_type": "code",
      "metadata": {
        "colab": {
          "background_save": true
        },
        "id": "9QcU4dn9Ai_q",
        "outputId": "6cee7828-f10e-4f5c-be64-d6f39f2b6ae1"
      },
      "source": [
        "# Check missing value\n",
        "data_test.isna().sum()"
      ],
      "execution_count": null,
      "outputs": [
        {
          "data": {
            "text/plain": [
              "bedroom         0\n",
              "area            0\n",
              "floor_number    0\n",
              "deposit_amt     0\n",
              "rent            0\n",
              "dtype: int64"
            ]
          },
          "execution_count": null,
          "metadata": {},
          "output_type": "execute_result"
        }
      ]
    },
    {
      "cell_type": "code",
      "metadata": {
        "colab": {
          "background_save": true
        },
        "id": "AhfIZY9QAjHk",
        "outputId": "d70185f1-3851-4efe-9691-c459dd2e3bf5"
      },
      "source": [
        "#  Check duplicated data\n",
        "duplicate = data_test[data_test.duplicated(keep=False)]\n",
        "duplicate"
      ],
      "execution_count": null,
      "outputs": [
        {
          "data": {
            "text/html": [
              "<div>\n",
              "<style scoped>\n",
              "    .dataframe tbody tr th:only-of-type {\n",
              "        vertical-align: middle;\n",
              "    }\n",
              "\n",
              "    .dataframe tbody tr th {\n",
              "        vertical-align: top;\n",
              "    }\n",
              "\n",
              "    .dataframe thead th {\n",
              "        text-align: right;\n",
              "    }\n",
              "</style>\n",
              "<table border=\"1\" class=\"dataframe\">\n",
              "  <thead>\n",
              "    <tr style=\"text-align: right;\">\n",
              "      <th></th>\n",
              "      <th>bedroom</th>\n",
              "      <th>area</th>\n",
              "      <th>floor_number</th>\n",
              "      <th>deposit_amt</th>\n",
              "      <th>rent</th>\n",
              "    </tr>\n",
              "  </thead>\n",
              "  <tbody>\n",
              "    <tr>\n",
              "      <th>5</th>\n",
              "      <td>2</td>\n",
              "      <td>950.0</td>\n",
              "      <td>1</td>\n",
              "      <td>50000</td>\n",
              "      <td>17000.0</td>\n",
              "    </tr>\n",
              "    <tr>\n",
              "      <th>10</th>\n",
              "      <td>2</td>\n",
              "      <td>0.0</td>\n",
              "      <td>3</td>\n",
              "      <td>50000</td>\n",
              "      <td>17000.0</td>\n",
              "    </tr>\n",
              "    <tr>\n",
              "      <th>11</th>\n",
              "      <td>2</td>\n",
              "      <td>1000.0</td>\n",
              "      <td>2</td>\n",
              "      <td>50000</td>\n",
              "      <td>20000.0</td>\n",
              "    </tr>\n",
              "    <tr>\n",
              "      <th>13</th>\n",
              "      <td>2</td>\n",
              "      <td>0.0</td>\n",
              "      <td>2</td>\n",
              "      <td>50000</td>\n",
              "      <td>17000.0</td>\n",
              "    </tr>\n",
              "    <tr>\n",
              "      <th>14</th>\n",
              "      <td>1</td>\n",
              "      <td>0.0</td>\n",
              "      <td>0</td>\n",
              "      <td>20000</td>\n",
              "      <td>6000.0</td>\n",
              "    </tr>\n",
              "    <tr>\n",
              "      <th>...</th>\n",
              "      <td>...</td>\n",
              "      <td>...</td>\n",
              "      <td>...</td>\n",
              "      <td>...</td>\n",
              "      <td>...</td>\n",
              "    </tr>\n",
              "    <tr>\n",
              "      <th>10865</th>\n",
              "      <td>1</td>\n",
              "      <td>0.0</td>\n",
              "      <td>0</td>\n",
              "      <td>20000</td>\n",
              "      <td>6000.0</td>\n",
              "    </tr>\n",
              "    <tr>\n",
              "      <th>10867</th>\n",
              "      <td>1</td>\n",
              "      <td>0.0</td>\n",
              "      <td>2</td>\n",
              "      <td>25000</td>\n",
              "      <td>7000.0</td>\n",
              "    </tr>\n",
              "    <tr>\n",
              "      <th>10870</th>\n",
              "      <td>2</td>\n",
              "      <td>0.0</td>\n",
              "      <td>1</td>\n",
              "      <td>20000</td>\n",
              "      <td>13000.0</td>\n",
              "    </tr>\n",
              "    <tr>\n",
              "      <th>10874</th>\n",
              "      <td>1</td>\n",
              "      <td>0.0</td>\n",
              "      <td>2</td>\n",
              "      <td>25000</td>\n",
              "      <td>12000.0</td>\n",
              "    </tr>\n",
              "    <tr>\n",
              "      <th>10877</th>\n",
              "      <td>2</td>\n",
              "      <td>805.0</td>\n",
              "      <td>7</td>\n",
              "      <td>3</td>\n",
              "      <td>20000.0</td>\n",
              "    </tr>\n",
              "  </tbody>\n",
              "</table>\n",
              "<p>2919 rows × 5 columns</p>\n",
              "</div>"
            ],
            "text/plain": [
              "       bedroom    area  floor_number  deposit_amt     rent\n",
              "5            2   950.0             1        50000  17000.0\n",
              "10           2     0.0             3        50000  17000.0\n",
              "11           2  1000.0             2        50000  20000.0\n",
              "13           2     0.0             2        50000  17000.0\n",
              "14           1     0.0             0        20000   6000.0\n",
              "...        ...     ...           ...          ...      ...\n",
              "10865        1     0.0             0        20000   6000.0\n",
              "10867        1     0.0             2        25000   7000.0\n",
              "10870        2     0.0             1        20000  13000.0\n",
              "10874        1     0.0             2        25000  12000.0\n",
              "10877        2   805.0             7            3  20000.0\n",
              "\n",
              "[2919 rows x 5 columns]"
            ]
          },
          "execution_count": null,
          "metadata": {},
          "output_type": "execute_result"
        }
      ]
    },
    {
      "cell_type": "code",
      "metadata": {
        "colab": {
          "background_save": true
        },
        "id": "tGNpjHvkA7S3"
      },
      "source": [
        "# Drop Duplicate Data\n",
        "data_test.drop_duplicates(inplace=True)"
      ],
      "execution_count": null,
      "outputs": []
    },
    {
      "cell_type": "code",
      "metadata": {
        "colab": {
          "background_save": true
        },
        "id": "m7uU05WuA91l",
        "outputId": "d14d641f-497a-41e3-fa98-91c3c2844da3"
      },
      "source": [
        "data_test.shape"
      ],
      "execution_count": null,
      "outputs": [
        {
          "data": {
            "text/plain": [
              "(9020, 5)"
            ]
          },
          "execution_count": null,
          "metadata": {},
          "output_type": "execute_result"
        }
      ]
    },
    {
      "cell_type": "code",
      "metadata": {
        "colab": {
          "background_save": true
        },
        "id": "68mqM60DBWTd",
        "outputId": "4c50aa53-2313-4d9c-d782-aac2f06ad2c4"
      },
      "source": [
        "# Scale data\n",
        "scaler = StandardScaler()\n",
        "scaled_data_test= scaler.fit_transform(data_test)\n",
        "scaled_data_test"
      ],
      "execution_count": null,
      "outputs": [
        {
          "data": {
            "text/plain": [
              "array([[ 0.17707164,  0.4479992 ,  0.71669055, -0.64226335, -0.00887338],\n",
              "       [ 0.17707164,  0.15624684,  0.71669055,  0.02222957, -0.01348987],\n",
              "       [ 1.37886715, -0.60834554, -0.92729159,  0.35450094, -0.0065659 ],\n",
              "       ...,\n",
              "       [ 1.37886715,  1.79609629,  2.36067269,  2.34812921,  0.01805616],\n",
              "       [ 0.17707164, -0.04194355, -0.51629605, -0.64226335, -0.01348987],\n",
              "       [-1.02472386, -0.10532424, -0.51629605, -0.64231319, -0.00656513]])"
            ]
          },
          "execution_count": null,
          "metadata": {},
          "output_type": "execute_result"
        }
      ]
    },
    {
      "cell_type": "code",
      "metadata": {
        "colab": {
          "background_save": true
        },
        "id": "zSQl6FPPBbr5",
        "outputId": "96a15513-ff9b-499d-ecbc-d958db096520"
      },
      "source": [
        "# Membuat dataframe dari hasil scalling\n",
        "scaled_data_test = pd.DataFrame(scaled_data_test, columns=data_test.columns)\n",
        "scaled_data_test"
      ],
      "execution_count": null,
      "outputs": [
        {
          "data": {
            "text/html": [
              "<div>\n",
              "<style scoped>\n",
              "    .dataframe tbody tr th:only-of-type {\n",
              "        vertical-align: middle;\n",
              "    }\n",
              "\n",
              "    .dataframe tbody tr th {\n",
              "        vertical-align: top;\n",
              "    }\n",
              "\n",
              "    .dataframe thead th {\n",
              "        text-align: right;\n",
              "    }\n",
              "</style>\n",
              "<table border=\"1\" class=\"dataframe\">\n",
              "  <thead>\n",
              "    <tr style=\"text-align: right;\">\n",
              "      <th></th>\n",
              "      <th>bedroom</th>\n",
              "      <th>area</th>\n",
              "      <th>floor_number</th>\n",
              "      <th>deposit_amt</th>\n",
              "      <th>rent</th>\n",
              "    </tr>\n",
              "  </thead>\n",
              "  <tbody>\n",
              "    <tr>\n",
              "      <th>0</th>\n",
              "      <td>0.177072</td>\n",
              "      <td>0.447999</td>\n",
              "      <td>0.716691</td>\n",
              "      <td>-0.642263</td>\n",
              "      <td>-0.008873</td>\n",
              "    </tr>\n",
              "    <tr>\n",
              "      <th>1</th>\n",
              "      <td>0.177072</td>\n",
              "      <td>0.156247</td>\n",
              "      <td>0.716691</td>\n",
              "      <td>0.022230</td>\n",
              "      <td>-0.013490</td>\n",
              "    </tr>\n",
              "    <tr>\n",
              "      <th>2</th>\n",
              "      <td>1.378867</td>\n",
              "      <td>-0.608346</td>\n",
              "      <td>-0.927292</td>\n",
              "      <td>0.354501</td>\n",
              "      <td>-0.006566</td>\n",
              "    </tr>\n",
              "    <tr>\n",
              "      <th>3</th>\n",
              "      <td>-1.024724</td>\n",
              "      <td>0.023449</td>\n",
              "      <td>-0.105301</td>\n",
              "      <td>0.022230</td>\n",
              "      <td>-0.014259</td>\n",
              "    </tr>\n",
              "    <tr>\n",
              "      <th>4</th>\n",
              "      <td>0.177072</td>\n",
              "      <td>0.063691</td>\n",
              "      <td>1.127686</td>\n",
              "      <td>-0.641981</td>\n",
              "      <td>-0.018491</td>\n",
              "    </tr>\n",
              "    <tr>\n",
              "      <th>...</th>\n",
              "      <td>...</td>\n",
              "      <td>...</td>\n",
              "      <td>...</td>\n",
              "      <td>...</td>\n",
              "      <td>...</td>\n",
              "    </tr>\n",
              "    <tr>\n",
              "      <th>9015</th>\n",
              "      <td>0.177072</td>\n",
              "      <td>0.146186</td>\n",
              "      <td>-1.338287</td>\n",
              "      <td>-0.143906</td>\n",
              "      <td>-0.012720</td>\n",
              "    </tr>\n",
              "    <tr>\n",
              "      <th>9016</th>\n",
              "      <td>0.177072</td>\n",
              "      <td>-0.608346</td>\n",
              "      <td>0.305695</td>\n",
              "      <td>-0.276815</td>\n",
              "      <td>-0.015798</td>\n",
              "    </tr>\n",
              "    <tr>\n",
              "      <th>9017</th>\n",
              "      <td>1.378867</td>\n",
              "      <td>1.796096</td>\n",
              "      <td>2.360673</td>\n",
              "      <td>2.348129</td>\n",
              "      <td>0.018056</td>\n",
              "    </tr>\n",
              "    <tr>\n",
              "      <th>9018</th>\n",
              "      <td>0.177072</td>\n",
              "      <td>-0.041944</td>\n",
              "      <td>-0.516296</td>\n",
              "      <td>-0.642263</td>\n",
              "      <td>-0.013490</td>\n",
              "    </tr>\n",
              "    <tr>\n",
              "      <th>9019</th>\n",
              "      <td>-1.024724</td>\n",
              "      <td>-0.105324</td>\n",
              "      <td>-0.516296</td>\n",
              "      <td>-0.642313</td>\n",
              "      <td>-0.006565</td>\n",
              "    </tr>\n",
              "  </tbody>\n",
              "</table>\n",
              "<p>9020 rows × 5 columns</p>\n",
              "</div>"
            ],
            "text/plain": [
              "       bedroom      area  floor_number  deposit_amt      rent\n",
              "0     0.177072  0.447999      0.716691    -0.642263 -0.008873\n",
              "1     0.177072  0.156247      0.716691     0.022230 -0.013490\n",
              "2     1.378867 -0.608346     -0.927292     0.354501 -0.006566\n",
              "3    -1.024724  0.023449     -0.105301     0.022230 -0.014259\n",
              "4     0.177072  0.063691      1.127686    -0.641981 -0.018491\n",
              "...        ...       ...           ...          ...       ...\n",
              "9015  0.177072  0.146186     -1.338287    -0.143906 -0.012720\n",
              "9016  0.177072 -0.608346      0.305695    -0.276815 -0.015798\n",
              "9017  1.378867  1.796096      2.360673     2.348129  0.018056\n",
              "9018  0.177072 -0.041944     -0.516296    -0.642263 -0.013490\n",
              "9019 -1.024724 -0.105324     -0.516296    -0.642313 -0.006565\n",
              "\n",
              "[9020 rows x 5 columns]"
            ]
          },
          "execution_count": null,
          "metadata": {},
          "output_type": "execute_result"
        }
      ]
    },
    {
      "cell_type": "code",
      "metadata": {
        "colab": {
          "background_save": true
        },
        "id": "26522-JiAwYh",
        "outputId": "69e017b1-13b2-40d5-cbaa-14f73e680f20"
      },
      "source": [
        "# Plot variabel sebelum dan sesudah scaling\n",
        "fig, axes = plt.subplots(5, 2, figsize=(15, 20))\n",
        "\n",
        "sns.distplot(data_test[\"bedroom\"], ax=axes[0, 0])\n",
        "sns.distplot(scaled_data_test[\"bedroom\"], ax=axes[0, 1])\n",
        "sns.distplot(data_test[\"area\"], ax=axes[1, 0])\n",
        "sns.distplot(scaled_data_test[\"area\"], ax=axes[1, 1])\n",
        "sns.distplot(data_test[\"floor_number\"], ax=axes[2, 0])\n",
        "sns.distplot(scaled_data_test[\"floor_number\"], ax=axes[2, 1])\n",
        "sns.distplot(data_test[\"deposit_amt\"], ax=axes[3, 0])\n",
        "sns.distplot(scaled_data_test[\"deposit_amt\"], ax=axes[3, 1])\n",
        "sns.distplot(data_test[\"rent\"], ax=axes[4, 0])\n",
        "sns.distplot(scaled_data_test[\"rent\"], ax=axes[4, 1])\n",
        "\n",
        "plt.show()"
      ],
      "execution_count": null,
      "outputs": [
        {
          "data": {
            "image/png": "[encoded data removed]",
            "text/plain": [
              "<Figure size 1080x1440 with 10 Axes>"
            ]
          },
          "metadata": {},
          "output_type": "display_data"
        }
      ]
    },
    {
      "cell_type": "code",
      "metadata": {
        "colab": {
          "background_save": true
        },
        "id": "UfSdL90ICJ7T"
      },
      "source": [
        "X_test = scaled_data_test.drop(\"rent\", axis=1).values\n",
        "y_test = scaled_data_test[\"rent\"].values.reshape(-1,1)"
      ],
      "execution_count": null,
      "outputs": []
    },
    {
      "cell_type": "code",
      "metadata": {
        "colab": {
          "background_save": true
        },
        "id": "zh3ik11O-3iy"
      },
      "source": [
        "# membuat list\n",
        "list_columns = []\n",
        "\n",
        "for i in data_trainNew.columns:\n",
        "  if i != \"rent\":\n",
        "    list_columns.append(i)"
      ],
      "execution_count": null,
      "outputs": []
    },
    {
      "cell_type": "code",
      "metadata": {
        "colab": {
          "background_save": true
        },
        "id": "ZjAxZet3--rn",
        "outputId": "4ab84470-ac1a-460c-8846-22c34d474b77"
      },
      "source": [
        "# Membuat Prediksi Model\n",
        "Input_test = sm.add_constant(X_test)\n",
        "prediction_1 = results.predict(Input_test)\n",
        "\n",
        "# Tampilkan dalam bentuk dataframe\n",
        "df_statsmod = pd.DataFrame(X_test, columns=list_columns)\n",
        "df_statsmod[\"actual_price\"] = y_test\n",
        "df_statsmod[\"prediction_price\"] = prediction_1\n",
        "df_statsmod.head()"
      ],
      "execution_count": null,
      "outputs": [
        {
          "data": {
            "text/html": [
              "<div>\n",
              "<style scoped>\n",
              "    .dataframe tbody tr th:only-of-type {\n",
              "        vertical-align: middle;\n",
              "    }\n",
              "\n",
              "    .dataframe tbody tr th {\n",
              "        vertical-align: top;\n",
              "    }\n",
              "\n",
              "    .dataframe thead th {\n",
              "        text-align: right;\n",
              "    }\n",
              "</style>\n",
              "<table border=\"1\" class=\"dataframe\">\n",
              "  <thead>\n",
              "    <tr style=\"text-align: right;\">\n",
              "      <th></th>\n",
              "      <th>bedroom</th>\n",
              "      <th>area</th>\n",
              "      <th>floor_number</th>\n",
              "      <th>deposit_amt</th>\n",
              "      <th>actual_price</th>\n",
              "      <th>prediction_price</th>\n",
              "    </tr>\n",
              "  </thead>\n",
              "  <tbody>\n",
              "    <tr>\n",
              "      <th>0</th>\n",
              "      <td>0.177072</td>\n",
              "      <td>0.447999</td>\n",
              "      <td>0.716691</td>\n",
              "      <td>-0.642263</td>\n",
              "      <td>-0.008873</td>\n",
              "      <td>0.012786</td>\n",
              "    </tr>\n",
              "    <tr>\n",
              "      <th>1</th>\n",
              "      <td>0.177072</td>\n",
              "      <td>0.156247</td>\n",
              "      <td>0.716691</td>\n",
              "      <td>0.022230</td>\n",
              "      <td>-0.013490</td>\n",
              "      <td>0.133138</td>\n",
              "    </tr>\n",
              "    <tr>\n",
              "      <th>2</th>\n",
              "      <td>1.378867</td>\n",
              "      <td>-0.608346</td>\n",
              "      <td>-0.927292</td>\n",
              "      <td>0.354501</td>\n",
              "      <td>-0.006566</td>\n",
              "      <td>0.843607</td>\n",
              "    </tr>\n",
              "    <tr>\n",
              "      <th>3</th>\n",
              "      <td>-1.024724</td>\n",
              "      <td>0.023449</td>\n",
              "      <td>-0.105301</td>\n",
              "      <td>0.022230</td>\n",
              "      <td>-0.014259</td>\n",
              "      <td>-0.605564</td>\n",
              "    </tr>\n",
              "    <tr>\n",
              "      <th>4</th>\n",
              "      <td>0.177072</td>\n",
              "      <td>0.063691</td>\n",
              "      <td>1.127686</td>\n",
              "      <td>-0.641981</td>\n",
              "      <td>-0.018491</td>\n",
              "      <td>0.011858</td>\n",
              "    </tr>\n",
              "  </tbody>\n",
              "</table>\n",
              "</div>"
            ],
            "text/plain": [
              "    bedroom      area  ...  actual_price  prediction_price\n",
              "0  0.177072  0.447999  ...     -0.008873          0.012786\n",
              "1  0.177072  0.156247  ...     -0.013490          0.133138\n",
              "2  1.378867 -0.608346  ...     -0.006566          0.843607\n",
              "3 -1.024724  0.023449  ...     -0.014259         -0.605564\n",
              "4  0.177072  0.063691  ...     -0.018491          0.011858\n",
              "\n",
              "[5 rows x 6 columns]"
            ]
          },
          "execution_count": null,
          "metadata": {},
          "output_type": "execute_result"
        }
      ]
    },
    {
      "cell_type": "code",
      "metadata": {
        "colab": {
          "background_save": true
        },
        "id": "ktz6mxCL_owr",
        "outputId": "d57d94b1-f082-4e4c-b71b-ec957397f003"
      },
      "source": [
        "# Melihat distribusi residual\n",
        "residual1 = df_statsmod['actual_price'] - df_statsmod['prediction_price']\n",
        "sns.distplot(residual1, label=\"residual\")\n",
        "plt.legend()\n",
        "plt.show()"
      ],
      "execution_count": null,
      "outputs": [
        {
          "data": {
            "image/png": "[encoded data removed]",
            "text/plain": [
              "<Figure size 432x288 with 1 Axes>"
            ]
          },
          "metadata": {},
          "output_type": "display_data"
        }
      ]
    },
    {
      "cell_type": "markdown",
      "metadata": {
        "id": "RYexwWgs_zFm"
      },
      "source": [
        "Dari gambar diatas, plot residual yang dihasilkan membentuk lonceng, sehingga dapat disimpulkan residual berdistribusi normal "
      ]
    },
    {
      "cell_type": "code",
      "metadata": {
        "colab": {
          "background_save": true
        },
        "id": "tcOLP93R_4wO",
        "outputId": "3b29f380-f018-403e-e839-cf785154a577"
      },
      "source": [
        "# Memasukkan residual kedalam dataframe\n",
        "df_statsmod[\"residual\"] = residual1\n",
        "df_statsmod.head()"
      ],
      "execution_count": null,
      "outputs": [
        {
          "data": {
            "text/html": [
              "<div>\n",
              "<style scoped>\n",
              "    .dataframe tbody tr th:only-of-type {\n",
              "        vertical-align: middle;\n",
              "    }\n",
              "\n",
              "    .dataframe tbody tr th {\n",
              "        vertical-align: top;\n",
              "    }\n",
              "\n",
              "    .dataframe thead th {\n",
              "        text-align: right;\n",
              "    }\n",
              "</style>\n",
              "<table border=\"1\" class=\"dataframe\">\n",
              "  <thead>\n",
              "    <tr style=\"text-align: right;\">\n",
              "      <th></th>\n",
              "      <th>bedroom</th>\n",
              "      <th>area</th>\n",
              "      <th>floor_number</th>\n",
              "      <th>deposit_amt</th>\n",
              "      <th>actual_price</th>\n",
              "      <th>prediction_price</th>\n",
              "      <th>residual</th>\n",
              "    </tr>\n",
              "  </thead>\n",
              "  <tbody>\n",
              "    <tr>\n",
              "      <th>0</th>\n",
              "      <td>0.177072</td>\n",
              "      <td>0.447999</td>\n",
              "      <td>0.716691</td>\n",
              "      <td>-0.642263</td>\n",
              "      <td>-0.008873</td>\n",
              "      <td>0.012786</td>\n",
              "      <td>-0.021659</td>\n",
              "    </tr>\n",
              "    <tr>\n",
              "      <th>1</th>\n",
              "      <td>0.177072</td>\n",
              "      <td>0.156247</td>\n",
              "      <td>0.716691</td>\n",
              "      <td>0.022230</td>\n",
              "      <td>-0.013490</td>\n",
              "      <td>0.133138</td>\n",
              "      <td>-0.146628</td>\n",
              "    </tr>\n",
              "    <tr>\n",
              "      <th>2</th>\n",
              "      <td>1.378867</td>\n",
              "      <td>-0.608346</td>\n",
              "      <td>-0.927292</td>\n",
              "      <td>0.354501</td>\n",
              "      <td>-0.006566</td>\n",
              "      <td>0.843607</td>\n",
              "      <td>-0.850173</td>\n",
              "    </tr>\n",
              "    <tr>\n",
              "      <th>3</th>\n",
              "      <td>-1.024724</td>\n",
              "      <td>0.023449</td>\n",
              "      <td>-0.105301</td>\n",
              "      <td>0.022230</td>\n",
              "      <td>-0.014259</td>\n",
              "      <td>-0.605564</td>\n",
              "      <td>0.591304</td>\n",
              "    </tr>\n",
              "    <tr>\n",
              "      <th>4</th>\n",
              "      <td>0.177072</td>\n",
              "      <td>0.063691</td>\n",
              "      <td>1.127686</td>\n",
              "      <td>-0.641981</td>\n",
              "      <td>-0.018491</td>\n",
              "      <td>0.011858</td>\n",
              "      <td>-0.030350</td>\n",
              "    </tr>\n",
              "  </tbody>\n",
              "</table>\n",
              "</div>"
            ],
            "text/plain": [
              "    bedroom      area  floor_number  ...  actual_price  prediction_price  residual\n",
              "0  0.177072  0.447999      0.716691  ...     -0.008873          0.012786 -0.021659\n",
              "1  0.177072  0.156247      0.716691  ...     -0.013490          0.133138 -0.146628\n",
              "2  1.378867 -0.608346     -0.927292  ...     -0.006566          0.843607 -0.850173\n",
              "3 -1.024724  0.023449     -0.105301  ...     -0.014259         -0.605564  0.591304\n",
              "4  0.177072  0.063691      1.127686  ...     -0.018491          0.011858 -0.030350\n",
              "\n",
              "[5 rows x 7 columns]"
            ]
          },
          "execution_count": null,
          "metadata": {},
          "output_type": "execute_result"
        }
      ]
    },
    {
      "cell_type": "markdown",
      "metadata": {
        "id": "vz2eAWUi_80q"
      },
      "source": [
        "Plot data actual dan prediction <br>\n",
        "Untuk membandingkan hasil data prediksi dengan data yang asli (actual), dapat dibentuk menjadi plot berikut : "
      ]
    },
    {
      "cell_type": "code",
      "metadata": {
        "colab": {
          "background_save": true
        },
        "id": "pdAPoPQ7_6dW",
        "outputId": "ce4724e2-0139-4f29-e34c-3091df8d48c8"
      },
      "source": [
        "# Melihat perbedaan actual dan prediksi\n",
        "sns.distplot(df_statsmod['actual_price'], label=\"Actual\")\n",
        "sns.distplot(df_statsmod['prediction_price'], label=\"Predicted\")\n",
        "plt.legend()\n",
        "plt.show"
      ],
      "execution_count": null,
      "outputs": [
        {
          "data": {
            "text/plain": [
              "<function matplotlib.pyplot.show>"
            ]
          },
          "execution_count": null,
          "metadata": {},
          "output_type": "execute_result"
        },
        {
          "data": {
            "image/png": "[encoded data removed]",
            "text/plain": [
              "<Figure size 432x288 with 1 Axes>"
            ]
          },
          "metadata": {},
          "output_type": "display_data"
        }
      ]
    },
    {
      "cell_type": "markdown",
      "metadata": {
        "id": "OR1mFocZ01JA"
      },
      "source": [
        "Asumsi No autokorelasi"
      ]
    },
    {
      "cell_type": "code",
      "metadata": {
        "colab": {
          "background_save": true
        },
        "id": "O73Tx0DmCf_h",
        "outputId": "a054c018-1f87-4d59-df10-17d5d858a794"
      },
      "source": [
        "statsmodels.stats.stattools.durbin_watson(results.resid, axis=0)"
      ],
      "execution_count": null,
      "outputs": [
        {
          "data": {
            "text/plain": [
              "2.0303946555516523"
            ]
          },
          "execution_count": null,
          "metadata": {},
          "output_type": "execute_result"
        }
      ]
    },
    {
      "cell_type": "markdown",
      "metadata": {
        "id": "1cjCyBoZAtR8"
      },
      "source": [
        "Skor Durbin antara 1.5 dan 2.5 sehingga dapat disimpulkan tidak autokorelasi dan asumsi puas."
      ]
    },
    {
      "cell_type": "code",
      "metadata": {
        "colab": {
          "background_save": true
        },
        "id": "GlbNiD4bCiXg",
        "outputId": "783cc2bc-f392-4ee0-abb2-cf85503f0402"
      },
      "source": [
        "asm_homosk = plt.scatter(df_statsmod['prediction_price'], df_statsmod[\"residual\"])\n",
        "plt.xlabel('predicted')\n",
        "plt.ylabel('Residuals')\n",
        "asm_homosk = sns.lineplot([-3,9],[0,0],color='red')\n",
        "asm_homosk = plt.title('Residuals vs Prediction')"
      ],
      "execution_count": null,
      "outputs": [
        {
          "data": {
            "image/png": "[encoded data removed]",
            "text/plain": [
              "<Figure size 432x288 with 1 Axes>"
            ]
          },
          "metadata": {},
          "output_type": "display_data"
        }
      ]
    },
    {
      "cell_type": "markdown",
      "metadata": {
        "id": "aolgFQ_tA-Xn"
      },
      "source": [
        "Dari grafik yang dihasilkan diatas, terlihat data berkumpul dalam satu pusat, sehingga dapat dikatakan homoskedasitas terpenuhi."
      ]
    },
    {
      "cell_type": "markdown",
      "metadata": {
        "id": "1nqbmHcJJOI1"
      },
      "source": [
        "### EVALUATION"
      ]
    },
    {
      "cell_type": "code",
      "metadata": {
        "colab": {
          "background_save": true
        },
        "id": "YUgxb5RI_n-O",
        "outputId": "44fc9db0-403f-4cf4-bbfe-5949cae8bd6c"
      },
      "source": [
        "# MSE\n",
        "print('MSE :', metrics.mean_squared_error(df_statsmod['actual_price'], df_statsmod['prediction_price']))"
      ],
      "execution_count": null,
      "outputs": [
        {
          "name": "stdout",
          "output_type": "stream",
          "text": [
            "MSE : 1.4679133111894562\n"
          ]
        }
      ]
    },
    {
      "cell_type": "markdown",
      "metadata": {
        "id": "P_POnKZiJQ3S"
      },
      "source": [
        "### LOAD AND PREDICT NEW DATA"
      ]
    },
    {
      "cell_type": "code",
      "metadata": {
        "colab": {
          "background_save": true
        },
        "id": "hm_lScYnJmAQ",
        "outputId": "70c557c7-e4b9-43bc-c777-9aeb3c6aecbe"
      },
      "source": [
        "t_test_const, t_test_X1, t_test_X2, t_test_X3, t_test_X4 = results.tvalues\n",
        "print(\"T-test score const: \", t_test_const)\n",
        "print(\"T-test score X1: \", t_test_X1)\n",
        "print(\"T-test score X2: \", t_test_X2)\n",
        "print(\"T-test score X3: \", t_test_X3)\n",
        "print(\"T-test score X4: \", t_test_X4)"
      ],
      "execution_count": null,
      "outputs": [
        {
          "name": "stdout",
          "output_type": "stream",
          "text": [
            "T-test score const:  1.7145695159469387e-14\n",
            "T-test score X1:  58.81294436162156\n",
            "T-test score X2:  3.2344215339560147\n",
            "T-test score X3:  2.9390644979869713\n",
            "T-test score X4:  20.634667390904486\n"
          ]
        }
      ]
    },
    {
      "cell_type": "code",
      "metadata": {
        "colab": {
          "background_save": true
        },
        "id": "lBsAsZBB7By3",
        "outputId": "b18392d3-b3ac-4244-fa98-97c2b5daf311"
      },
      "source": [
        "p_value_const, p_value_X1, p_value_X2, p_value_X3, p_value_X4 = results.pvalues\n",
        "print(\"P-value const: \", p_value_const)\n",
        "print(\"P-value X1: \", p_value_X1)\n",
        "print(\"P-value X2: \", p_value_X2)\n",
        "print(\"P-value X3: \", p_value_X3)\n",
        "print(\"P-value X4: \", p_value_X4)"
      ],
      "execution_count": null,
      "outputs": [
        {
          "name": "stdout",
          "output_type": "stream",
          "text": [
            "P-value const:  0.9999999999999863\n",
            "P-value X1:  0.0\n",
            "P-value X2:  0.0012250124071815167\n",
            "P-value X3:  0.0033036733687551393\n",
            "P-value X4:  1.1326767169759386e-91\n"
          ]
        }
      ]
    },
    {
      "cell_type": "markdown",
      "metadata": {
        "id": "nsNyPg5A6iQI"
      },
      "source": [
        "Diperoleh dari output diatas, bahwa P-value keempat variabel kurang dari 0,05 sehingga Hypothesis null ditolak dan dapat disimpulkan, bahwa keempat variabel independen (X) memberikan pengaruh secara signifikan pada variabel dependen Rent (Y)."
      ]
    },
    {
      "cell_type": "code",
      "metadata": {
        "colab": {
          "background_save": true
        },
        "id": "_Yb6gjkR6bw4",
        "outputId": "09308a26-ed3c-4639-9a75-ce979e70803a"
      },
      "source": [
        "f_value = results.fvalue\n",
        "print(\"f-test score : \", f_value)\n",
        "\n",
        "p_value = results.f_pvalue\n",
        "print(\"P-value : \", p_value)\n",
        "\n",
        "if p_value < 0.05:\n",
        "  print(\"Tolak H0\")\n",
        "else:\n",
        "  print(\"Terima H0\")"
      ],
      "execution_count": null,
      "outputs": [
        {
          "name": "stdout",
          "output_type": "stream",
          "text": [
            "f-test score :  1552.9743958567701\n",
            "P-value :  0.0\n",
            "Tolak H0\n"
          ]
        }
      ]
    },
    {
      "cell_type": "markdown",
      "metadata": {
        "id": "tgPkqiT5722Y"
      },
      "source": [
        "Dari output diatas, diperoleh p-value kurang dari 0,05 sehingga hypothesis null ditolak dan dapat disimpulkan bahwa model regresi dari keempat variabel independen dan variabel dependen Rent (Y) layak digunakan."
      ]
    },
    {
      "cell_type": "markdown",
      "metadata": {
        "id": "oAAedPRXDARJ"
      },
      "source": [
        "### KESIMPULAN/SARAN"
      ]
    },
    {
      "cell_type": "markdown",
      "metadata": {
        "id": "xbTajqKr0xBQ"
      },
      "source": [
        "Berdasarkan data train yang telah diload diambil 5 column data yaitu bedroom, bathrooms, area, floor_number, dan deposit_amt.\n",
        "\n",
        "Pada pengujian multikolinearitas, didapatkan bahwa nilai bedroom dan bathrooms memiliki korelasi yang sama sehingga dapat disimpulkan bahwa kedua column memiliki values yang sama sehingga menyebabkan model regresi memiliki masalah multikolinearitas. Hal ini juga telah ditampilkan bahwa persentase kemiripan data bedroom dan bathrooms sebesar 88.1%. Agar dapat membuat model yang layak digunakan, dilakukan drop salah satu column yaitu bathrooms karena memiliki korelasi yang besar.\n",
        "\n",
        "Lalu dilakukan pengujian P-value didapatkan bahwa keempat variabel mempengaruhi variabel Rent (Y)  secara signifikan.\n",
        "\n",
        "Didapatkan pula, nilai p-value < 0.05 sehingga H0 ditolak dapat disimpulkan model regresi dari keempat variabel independen dan variabel dependen rent layak digunakan."
      ]
    }
  ]
}
