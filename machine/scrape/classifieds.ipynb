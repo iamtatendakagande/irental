{
 "cells": [
  {
   "cell_type": "code",
   "execution_count": 1,
   "metadata": {},
   "outputs": [],
   "source": [
    "import requests\n",
    "from bs4 import BeautifulSoup\n",
    "from csv import writer"
   ]
  },
  {
   "cell_type": "code",
   "execution_count": 2,
   "metadata": {},
   "outputs": [
    {
     "name": "stdout",
     "output_type": "stream",
     "text": [
      "200\n",
      "9\n",
      "https://www.classifieds.co.zw/listings/mount-pleasant-heights-house-2241534 \n",
      "200\n",
      "[' Mount Pleasant Heights - House ', ' $2,200  ', \" Ref.: PRCL186580 Escape to the serenity and elegance of this luxurious 5-bedroom family home nestled in the elite neighborhood of Mount Pleasant Heights, Harare North. Ideally situated, this sprawling property represents a perfect harmony of tranquility and convenience, spread across a generous land area of 6000 m², and offering a generous building capacity of 800 m². The residence boasts 5 spacious and well-appointed bedrooms promising comfort and exclusivity. The 4 modern bathrooms feature top-of-the-range fixtures, enhancing the property's allure.   The property's standout feature is the constant supply of water, a priceless commodity in this location. This is a perfect home for a family seeking a comfortable and spacious household without compromising on modern amenities and luxury. You will enjoy scenic vistas of the surrounding landscape and relish in the peaceful environs of Harare North.   Its proximity to schools, shopping malls, and transportation points makes it a choice residence for professionals and families alike. \"]\n",
      "9\n",
      "https://www.classifieds.co.zw/listings/greendale-house-cottage-2205719 \n",
      "200\n",
      "[' Greendale - House, Cottage ', ' $150  ', ' Ref.: PRCL180618 Available for immediate occupation is this 1 bedroomed cottage with a separate kitchen and toilet. ']\n",
      "9\n",
      "https://www.classifieds.co.zw/listings/mount-pleasant-house-2212904 \n",
      "200\n",
      "[' Mount Pleasant - House ', ' $3,000  ', ' Ref.: PSP181781 A perfectly situated home located close to schools, shopping complexes and medical facilities. To make life simple the house already comes fully furnished with finishes that will most certainly be appreciated by all. The house boasts blooming gardens that stay green all year round with plenty of space for either the kids or the pets to run around. The rooms are very big and provide the perfect lighting conditions. The house is a must view and will only be available on the market at the end of May. ']\n",
      "9\n",
      "https://www.classifieds.co.zw/listings/newlands-townhouse-complex-1850176 \n",
      "200\n",
      "[' Newlands - Townhouse Complex ', ' $850  ', ' Ref.: EPG115656 Available to let is Modern Family 2x 3 bedroomed garden flats comprising of 2 bathroom, open plan lounge and kitchen with fitted stove and built in cupboards, ,shared communal borehole, walled plus communal electric gate, 20 000 litres water tanks and developed garden. , The flats are in a complex of 11 units. Rent guide is US$850.00per month, ( excluding levies), 24hours night guard ( Solar system catering for communal areas) .Available immediately ']\n",
      "9\n",
      "https://www.classifieds.co.zw/listings/greystone-park-house-2216747 \n",
      "200\n",
      "[' Greystone Park - House ', ' $5,500  ', ' Ref.: GBR182184 11 bedrooms ,dinning ,kitchen,4 toilets and double lockup garage. ']\n",
      "9\n",
      "https://www.classifieds.co.zw/listings/kambanji-house-townhouse-complex-2253482 \n",
      "200\n",
      "[' Kambanji - House, Townhouse Complex ', ' $2,600  ', ' Ref.: NTH188444 This modern and charming house is situated in the leafy suburb of Kambanji. It comprises of 3 bedrooms mes, spacious kitchen, open plan dining and lounge, swimming pool, backup solar 5kv, aircom in main bed, bar and entertaiment area, onebed flatlet, very quite complex with 11 units. Levies inclusive. Available 1 May 2024. ']\n",
      "9\n",
      "https://www.classifieds.co.zw/listings/chisipite-house-2250029 \n"
     ]
    }
   ],
   "source": [
    "root = 'https://www.classifieds.co.zw'\n",
    "with open(\"../machine/dataset/classifieds.csv\", \"w\", encoding='utf8', newline='') as f:\n",
    "    thewriter = writer(f)\n",
    "    header = [\"surburb\",\"price\",\"interior\"]\n",
    "    thewriter.writerow(header)\n",
    "    for n in range(12,21):\n",
    "        intial = requests.get(f'{root}/zimbabwe-houses-to-rent?page={n}')\n",
    "        #print(f'{root}//zimbabwe-houses-to-rent?page={n}')\n",
    "        if intial.status_code == 200:\n",
    "            print(intial.status_code)\n",
    "            soup = BeautifulSoup(intial.content, \"html.parser\")\n",
    "            data1 = soup.findAll(\"div\", class_=\"details col-md-7 col-sm-7 col-xs-8\")\n",
    "\n",
    "            for data in data1:\n",
    "                print(len(data))\n",
    "\n",
    "                listed = data.find(\"a\",).get(\"href\")    \n",
    "                print(f'{listed}')\n",
    "                intialed = requests.get(f'{listed}')\n",
    "                souped = BeautifulSoup(intialed.content, \"html.parser\")\n",
    "                print(intial.status_code)                 \n",
    "                if intial.status_code == 200:\n",
    "                    data = souped.findAll(\"div\", class_=\"col-md-9\")\n",
    "                    for div in data:\n",
    "                        try:\n",
    "                            surburb = div.find(\"h1\", class_=\"page-header\").text.replace('\\n', \" \")\n",
    "                            price = div.find(\"div\", class_=\"usd-price-tooltip\").text.replace('\\n', \" \")\n",
    "                            interior = div.find(\"div\", class_=\"listing-description\").text.replace('\\n', \" \")\n",
    "                            info = [surburb,price,interior]\n",
    "                            print(info)\n",
    "                            thewriter.writerow(info)\n",
    "                        except:\n",
    "                            pass\n",
    "\n",
    "                "
   ]
  }
 ],
 "metadata": {
  "kernelspec": {
   "display_name": "Python 3",
   "language": "python",
   "name": "python3"
  },
  "language_info": {
   "codemirror_mode": {
    "name": "ipython",
    "version": 3
   },
   "file_extension": ".py",
   "mimetype": "text/x-python",
   "name": "python",
   "nbconvert_exporter": "python",
   "pygments_lexer": "ipython3",
   "version": "3.10.7"
  },
  "orig_nbformat": 4
 },
 "nbformat": 4,
 "nbformat_minor": 2
}
